{
 "cells": [
  {
   "cell_type": "markdown",
   "metadata": {},
   "source": [
    "## Social Media Analysis"
   ]
  },
  {
   "cell_type": "markdown",
   "metadata": {},
   "source": [
    "Which ones are even interesting?\n",
    "- Twitter\n",
    "- Facebook\n",
    "- Instagram\n",
    "- Reddit\n",
    "\n",
    "Why not Facebook, Instagram & Reddit?\n",
    "Facebook disallows nearly every scraping or collection of data and has shown to be a platform where a lot of complaints and hate exists. Moreover, well-known personalities, like Presidents or CEO's, are more likely to be found on Twitter.\n",
    "\n",
    "Instagram is being used for showing your life with pictures rather than sharing your opinion on particular topics. Analysing pictures for sentiment is rather laborious. It is also not the top choice for giving and getting opinions on particular topics.\n",
    "\n",
    "Reddit is a good choice for gathering sentiment and has been quite popular amongst traders. Especially since it made the headlines when the reddit members of the room r/wallstreetbets with their 4.8m members (2021, 2022: 11.8m members) came together and bought stocks like crazy. \n",
    "\n",
    "> \"Prompted by the information posted on social media retail investors began buying these so called “meme-stocks” including GameStop, AMC Entertainment, Blackberry, and Nokia. The activity sent their prices soaring, with the GameStop share prices climbing over 1000% in just two weeks.\" [Source](https://www.thetradenews.com/the-reddit-revolt-gamestop-and-the-impact-of-social-media-on-institutional-investors/)\n",
    "\n",
    "\n",
    "But for gathering sentiment automatically it has the same problem as Instagram: A lot of pictures.\n",
    "\n",
    "Twitter is perfect. A lot of Users, including well-known Personalities, who are talking about different topics in a somewhat appropriate manner. Twitter offers a well written Documentary and easy-to-use libraries for Python.\n",
    "\n",
    "---"
   ]
  },
  {
   "cell_type": "markdown",
   "metadata": {},
   "source": [
    "### Python Libraries for easy-to-use Access of the Twitter API\n",
    "\n",
    "Instead of dealing with HTTP Requests, Data Serialisation and Rate Limits it is easier to use pre-built libraries to focus building the functionality. There are hundreds of different libraries but I've found two to be standing out and compared them: Tweepy vs. Twint.\n",
    "\n",
    "**Twint**\n",
    "* Does not need access to the official Twitter API and no Authentication\n",
    "* No limits on tweets\n",
    "* 12,7k Stars on Github with 845 commits (last Commit in March 2021)\n",
    "* Meant for grabbing tweets not for posting or sending DMs\n",
    "* Minimal documentation and not many tutorials\n",
    "\n",
    "**Tweepy**\n",
    "* uses Twitter API \n",
    "* Limits to last 3200 Tweets\n",
    "* 8,6k Stars on Github with 2914 commits (last Commit: 25.03.2022) \n",
    "\n",
    "Twint seems to have the upper hand but when I tried to make a simple test to get some Tweets it did not work. It appears that Twint can't retrieve the data. See [here](../jupyter_notebooks/SavedCodeSnippets.ipynb#Test-Twint)\n"
   ]
  }
 ],
 "metadata": {
  "language_info": {
   "name": "python"
  },
  "orig_nbformat": 4
 },
 "nbformat": 4,
 "nbformat_minor": 2
}
