{
 "cells": [
  {
   "cell_type": "code",
   "execution_count": 4,
   "metadata": {},
   "outputs": [
    {
     "name": "stdout",
     "output_type": "stream",
     "text": [
      "['Solarize_Light2', '_classic_test_patch', '_mpl-gallery', '_mpl-gallery-nogrid', 'bmh', 'classic', 'dark_background', 'fast', 'fivethirtyeight', 'ggplot', 'grayscale', 'seaborn', 'seaborn-bright', 'seaborn-colorblind', 'seaborn-dark', 'seaborn-dark-palette', 'seaborn-darkgrid', 'seaborn-deep', 'seaborn-muted', 'seaborn-notebook', 'seaborn-paper', 'seaborn-pastel', 'seaborn-poster', 'seaborn-talk', 'seaborn-ticks', 'seaborn-white', 'seaborn-whitegrid', 'tableau-colorblind10']\n"
     ]
    }
   ],
   "source": [
    "import matplotlib.pyplot as plt\n",
    "from matplotlib.animation import FuncAnimation\n",
    "from binance import Client\n",
    "import pandas as pd\n",
    "\n",
    "#Config\n",
    "import sys\n",
    "sys.path.insert(0,\"/Users/marvinottersberg/Documents/GitHub/sentiment/\")\n",
    "from config import ConfigBinance\n",
    "conf = ConfigBinance().getKeys()\n",
    "\n",
    "client = Client(conf[0],conf[1])\n",
    "\n",
    "plt.style.use(\"ggplot\")\n",
    "print(plt.style.available)\n",
    "\n",
    "asset = \"BTCUSDT\"\n",
    "\n"
   ]
  },
  {
   "cell_type": "code",
   "execution_count": 5,
   "metadata": {},
   "outputs": [],
   "source": [
    "def getminutedata(symbol,interval, lookback):\n",
    "    frame = pd.DataFrame(client.get_historical_klines(symbol,interval,lookback))\n",
    "    frame = frame.iloc[:,:6]\n",
    "    frame.columns= [\"Time\",\"Open\",\"High\",\"Low\",\"Close\",\"Volume\"]\n",
    "    frame = frame.set_index(\"Time\")\n",
    "    frame.index = pd.to_datetime(frame.index,unit = \"ms\")\n",
    "    frame = frame.astype(float)\n",
    "    return frame\n"
   ]
  },
  {
   "cell_type": "code",
   "execution_count": 6,
   "metadata": {},
   "outputs": [
    {
     "data": {
      "text/html": [
       "<div>\n",
       "<style scoped>\n",
       "    .dataframe tbody tr th:only-of-type {\n",
       "        vertical-align: middle;\n",
       "    }\n",
       "\n",
       "    .dataframe tbody tr th {\n",
       "        vertical-align: top;\n",
       "    }\n",
       "\n",
       "    .dataframe thead th {\n",
       "        text-align: right;\n",
       "    }\n",
       "</style>\n",
       "<table border=\"1\" class=\"dataframe\">\n",
       "  <thead>\n",
       "    <tr style=\"text-align: right;\">\n",
       "      <th></th>\n",
       "      <th>Open</th>\n",
       "      <th>High</th>\n",
       "      <th>Low</th>\n",
       "      <th>Close</th>\n",
       "      <th>Volume</th>\n",
       "    </tr>\n",
       "    <tr>\n",
       "      <th>Time</th>\n",
       "      <th></th>\n",
       "      <th></th>\n",
       "      <th></th>\n",
       "      <th></th>\n",
       "      <th></th>\n",
       "    </tr>\n",
       "  </thead>\n",
       "  <tbody>\n",
       "    <tr>\n",
       "      <th>2022-07-13 09:26:00</th>\n",
       "      <td>19867.97</td>\n",
       "      <td>19884.98</td>\n",
       "      <td>19867.82</td>\n",
       "      <td>19883.52</td>\n",
       "      <td>95.85977</td>\n",
       "    </tr>\n",
       "    <tr>\n",
       "      <th>2022-07-13 09:27:00</th>\n",
       "      <td>19883.52</td>\n",
       "      <td>19887.95</td>\n",
       "      <td>19873.76</td>\n",
       "      <td>19876.26</td>\n",
       "      <td>94.58965</td>\n",
       "    </tr>\n",
       "    <tr>\n",
       "      <th>2022-07-13 09:28:00</th>\n",
       "      <td>19874.45</td>\n",
       "      <td>19896.47</td>\n",
       "      <td>19873.35</td>\n",
       "      <td>19893.10</td>\n",
       "      <td>112.96804</td>\n",
       "    </tr>\n",
       "    <tr>\n",
       "      <th>2022-07-13 09:29:00</th>\n",
       "      <td>19893.10</td>\n",
       "      <td>19899.64</td>\n",
       "      <td>19887.03</td>\n",
       "      <td>19891.72</td>\n",
       "      <td>66.64642</td>\n",
       "    </tr>\n",
       "    <tr>\n",
       "      <th>2022-07-13 09:30:00</th>\n",
       "      <td>19894.21</td>\n",
       "      <td>19898.38</td>\n",
       "      <td>19867.00</td>\n",
       "      <td>19867.92</td>\n",
       "      <td>69.71485</td>\n",
       "    </tr>\n",
       "    <tr>\n",
       "      <th>...</th>\n",
       "      <td>...</td>\n",
       "      <td>...</td>\n",
       "      <td>...</td>\n",
       "      <td>...</td>\n",
       "      <td>...</td>\n",
       "    </tr>\n",
       "    <tr>\n",
       "      <th>2022-07-13 11:21:00</th>\n",
       "      <td>19797.10</td>\n",
       "      <td>19801.00</td>\n",
       "      <td>19792.69</td>\n",
       "      <td>19794.79</td>\n",
       "      <td>39.96429</td>\n",
       "    </tr>\n",
       "    <tr>\n",
       "      <th>2022-07-13 11:22:00</th>\n",
       "      <td>19796.27</td>\n",
       "      <td>19815.46</td>\n",
       "      <td>19794.79</td>\n",
       "      <td>19812.32</td>\n",
       "      <td>152.93875</td>\n",
       "    </tr>\n",
       "    <tr>\n",
       "      <th>2022-07-13 11:23:00</th>\n",
       "      <td>19812.32</td>\n",
       "      <td>19814.98</td>\n",
       "      <td>19795.37</td>\n",
       "      <td>19795.60</td>\n",
       "      <td>156.26336</td>\n",
       "    </tr>\n",
       "    <tr>\n",
       "      <th>2022-07-13 11:24:00</th>\n",
       "      <td>19795.60</td>\n",
       "      <td>19799.09</td>\n",
       "      <td>19763.16</td>\n",
       "      <td>19763.21</td>\n",
       "      <td>108.60688</td>\n",
       "    </tr>\n",
       "    <tr>\n",
       "      <th>2022-07-13 11:25:00</th>\n",
       "      <td>19765.60</td>\n",
       "      <td>19789.47</td>\n",
       "      <td>19763.16</td>\n",
       "      <td>19777.65</td>\n",
       "      <td>130.84659</td>\n",
       "    </tr>\n",
       "  </tbody>\n",
       "</table>\n",
       "<p>120 rows × 5 columns</p>\n",
       "</div>"
      ],
      "text/plain": [
       "                         Open      High       Low     Close     Volume\n",
       "Time                                                                  \n",
       "2022-07-13 09:26:00  19867.97  19884.98  19867.82  19883.52   95.85977\n",
       "2022-07-13 09:27:00  19883.52  19887.95  19873.76  19876.26   94.58965\n",
       "2022-07-13 09:28:00  19874.45  19896.47  19873.35  19893.10  112.96804\n",
       "2022-07-13 09:29:00  19893.10  19899.64  19887.03  19891.72   66.64642\n",
       "2022-07-13 09:30:00  19894.21  19898.38  19867.00  19867.92   69.71485\n",
       "...                       ...       ...       ...       ...        ...\n",
       "2022-07-13 11:21:00  19797.10  19801.00  19792.69  19794.79   39.96429\n",
       "2022-07-13 11:22:00  19796.27  19815.46  19794.79  19812.32  152.93875\n",
       "2022-07-13 11:23:00  19812.32  19814.98  19795.37  19795.60  156.26336\n",
       "2022-07-13 11:24:00  19795.60  19799.09  19763.16  19763.21  108.60688\n",
       "2022-07-13 11:25:00  19765.60  19789.47  19763.16  19777.65  130.84659\n",
       "\n",
       "[120 rows x 5 columns]"
      ]
     },
     "execution_count": 6,
     "metadata": {},
     "output_type": "execute_result"
    }
   ],
   "source": [
    "df = getminutedata(asset, \"1m\",\"120m\") #data every 1 minute for total lookback of 120 minutes\n",
    "\n",
    "df\n"
   ]
  },
  {
   "cell_type": "code",
   "execution_count": 22,
   "metadata": {},
   "outputs": [],
   "source": [
    "def animate(i):\n",
    "    data = getminutedata(asset,\"1m\",\"120m\")\n",
    "    #plt.figure(figsize=((10,8)))\n",
    "    plt.cla()\n",
    "    plt.plot(data.index,data.Close)\n",
    "    plt.xlabel(\"Time\")\n",
    "    plt.ylabel(\"Price\")\n",
    "    plt.title(asset)\n",
    "    plt.gcf().autofmt_xdate() #adjust dates \n",
    "    plt.tight_layout()\n",
    "    "
   ]
  },
  {
   "cell_type": "code",
   "execution_count": 23,
   "metadata": {},
   "outputs": [
    {
     "data": {
      "text/plain": [
       "<Figure size 432x288 with 0 Axes>"
      ]
     },
     "metadata": {},
     "output_type": "display_data"
    },
    {
     "data": {
      "text/plain": [
       "<Figure size 720x576 with 0 Axes>"
      ]
     },
     "metadata": {},
     "output_type": "display_data"
    }
   ],
   "source": [
    "def getPlot():\n",
    "    ani = FuncAnimation(plt.gcf(),animate,1000) #updating every second\n",
    "    plt.figure(figsize=((10,8)))\n",
    "    plt.tight_layout()\n",
    "    plt.show()\n",
    "    return ani\n",
    "\n",
    "anim = getPlot()"
   ]
  }
 ],
 "metadata": {
  "kernelspec": {
   "display_name": "Python 3.9.7 ('dontbesentimental')",
   "language": "python",
   "name": "python3"
  },
  "language_info": {
   "codemirror_mode": {
    "name": "ipython",
    "version": 3
   },
   "file_extension": ".py",
   "mimetype": "text/x-python",
   "name": "python",
   "nbconvert_exporter": "python",
   "pygments_lexer": "ipython3",
   "version": "3.9.7"
  },
  "orig_nbformat": 4,
  "vscode": {
   "interpreter": {
    "hash": "f006eaa69a9e1242291392219277a0a973a697a6ded3a6ef5df3e91aa85b190b"
   }
  }
 },
 "nbformat": 4,
 "nbformat_minor": 2
}
