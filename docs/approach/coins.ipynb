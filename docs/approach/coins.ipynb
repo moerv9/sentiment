{
 "cells": [
  {
   "cell_type": "markdown",
   "metadata": {},
   "source": [
    "# Cryptocurrency Analysis"
   ]
  },
  {
   "cell_type": "markdown",
   "metadata": {},
   "source": [
    "![Coinmarketcap from the 5.3.2022](../../img/coinmcap_532022.jpeg)"
   ]
  },
  {
   "cell_type": "markdown",
   "metadata": {},
   "source": [
    "## Choosing which Coins to analyse\n",
    "\n",
    "I want to talk about why I choose these Coins and these particular metrics.\n",
    "Stablecoins like Tether, USD Coin or Terra are not included in this Analysic since they are pegged to a FIAT Currency like the US-Dollar. It is totally normal to trade with Currencies or Stablecoins but you most likely loose to professionals and you need to use leverage to even get a good arbitrage. You can see in the following picture that the Trading-Volume (30days) of Tether is enormously more than the total circulating supply. While this is a good sign for liquidity and trading itself it is not very suitable for our Use-Case. Therefore we will focus on the Top 5 Cryptocurrencies based on Marketcapitalisation: Bitcoin, Ethereum's Ether, Binance Chain BNB, Ripples XRP and Cardanos ADA.\n",
    "\n",
    "I've made an Excel-Table to analyse different metrics about these Coins. Since Bitcoin is the pioneer and exists for more than 14 years now it is the most dominant Coin with the highest Marketcapitalisation. It stands now at about 740 billion $ but has already breached 1 trillion $ in February of 2021. Bitcoin reached a trillion Marketcap. in only 13 years. The first company to do that, Apple, took **38 years** for that.\n",
    "\n",
    "Ethereum is chasing Bitcoin and has already reached a dominance of 18% of the market. The Others seem quite small in comparison but when you see that they just exist for 5 years and already accumulated billions it quite impressive. "
   ]
  },
  {
   "cell_type": "markdown",
   "metadata": {},
   "source": [
    "# Show Excel Table "
   ]
  },
  {
   "cell_type": "code",
   "execution_count": 1,
   "metadata": {},
   "outputs": [
    {
     "data": {
      "text/html": [
       "<div>\n",
       "<style scoped>\n",
       "    .dataframe tbody tr th:only-of-type {\n",
       "        vertical-align: middle;\n",
       "    }\n",
       "\n",
       "    .dataframe tbody tr th {\n",
       "        vertical-align: top;\n",
       "    }\n",
       "\n",
       "    .dataframe thead th {\n",
       "        text-align: right;\n",
       "    }\n",
       "</style>\n",
       "<table border=\"1\" class=\"dataframe\">\n",
       "  <thead>\n",
       "    <tr style=\"text-align: right;\">\n",
       "      <th></th>\n",
       "      <th>Coin</th>\n",
       "      <th>Bitcoin BTC</th>\n",
       "      <th>Ethereum ETH</th>\n",
       "      <th>Binance Chain BNB</th>\n",
       "      <th>Ripple XRP</th>\n",
       "      <th>Cardano ADA</th>\n",
       "    </tr>\n",
       "  </thead>\n",
       "  <tbody>\n",
       "    <tr>\n",
       "      <th>0</th>\n",
       "      <td>Price ($)</td>\n",
       "      <td>39022.52</td>\n",
       "      <td>2639.04</td>\n",
       "      <td>379.61</td>\n",
       "      <td>0.7514</td>\n",
       "      <td>0.86</td>\n",
       "    </tr>\n",
       "    <tr>\n",
       "      <th>1</th>\n",
       "      <td>Marketcap (in billion $)</td>\n",
       "      <td>741</td>\n",
       "      <td>316</td>\n",
       "      <td>62</td>\n",
       "      <td>36</td>\n",
       "      <td>29</td>\n",
       "    </tr>\n",
       "    <tr>\n",
       "      <th>2</th>\n",
       "      <td>Volume (in billion $ / 24h)</td>\n",
       "      <td>26.16</td>\n",
       "      <td>12.4</td>\n",
       "      <td>1.67</td>\n",
       "      <td>2.27</td>\n",
       "      <td>1.04</td>\n",
       "    </tr>\n",
       "    <tr>\n",
       "      <th>3</th>\n",
       "      <td>Volume (in billion $ / 30days)</td>\n",
       "      <td>730</td>\n",
       "      <td>407</td>\n",
       "      <td>53</td>\n",
       "      <td>109</td>\n",
       "      <td>29</td>\n",
       "    </tr>\n",
       "    <tr>\n",
       "      <th>4</th>\n",
       "      <td>Total Circulating Supply (in million)</td>\n",
       "      <td>18,975 BTC</td>\n",
       "      <td>119,83 ETH</td>\n",
       "      <td>165 BNB</td>\n",
       "      <td>99980 XRP</td>\n",
       "      <td>34160 ADA</td>\n",
       "    </tr>\n",
       "    <tr>\n",
       "      <th>5</th>\n",
       "      <td>Volume (30days) / Total Supply (in %)</td>\n",
       "      <td>98.6</td>\n",
       "      <td>128.5</td>\n",
       "      <td>85.5</td>\n",
       "      <td>154</td>\n",
       "      <td>100</td>\n",
       "    </tr>\n",
       "    <tr>\n",
       "      <th>6</th>\n",
       "      <td>Volume / Mcap</td>\n",
       "      <td>0.0353</td>\n",
       "      <td>0.0392</td>\n",
       "      <td>0.0266</td>\n",
       "      <td>0.063</td>\n",
       "      <td>0.035</td>\n",
       "    </tr>\n",
       "    <tr>\n",
       "      <th>7</th>\n",
       "      <td>Dominance</td>\n",
       "      <td>42.2</td>\n",
       "      <td>18</td>\n",
       "      <td>3.57</td>\n",
       "      <td>2</td>\n",
       "      <td>1.65</td>\n",
       "    </tr>\n",
       "    <tr>\n",
       "      <th>8</th>\n",
       "      <td>Amount of Github Commits</td>\n",
       "      <td>32.998 (as of 18.03.22)</td>\n",
       "      <td>42.457 (as of 2021)</td>\n",
       "      <td>12.808 (as of 18.03.2022)</td>\n",
       "      <td>12.613 (as of 18.03.2022)</td>\n",
       "      <td>37.327 (as of 2021)</td>\n",
       "    </tr>\n",
       "    <tr>\n",
       "      <th>9</th>\n",
       "      <td>Launched</td>\n",
       "      <td>2008</td>\n",
       "      <td>2015</td>\n",
       "      <td>2017</td>\n",
       "      <td>2012</td>\n",
       "      <td>2017</td>\n",
       "    </tr>\n",
       "  </tbody>\n",
       "</table>\n",
       "</div>"
      ],
      "text/plain": [
       "                                   Coin               Bitcoin BTC  \\\n",
       "0                              Price ($)                 39022.52   \n",
       "1               Marketcap (in billion $)                      741   \n",
       "2            Volume (in billion $ / 24h)                    26.16   \n",
       "3         Volume (in billion $ / 30days)                      730   \n",
       "4  Total Circulating Supply (in million)               18,975 BTC   \n",
       "5  Volume (30days) / Total Supply (in %)                     98.6   \n",
       "6                          Volume / Mcap                   0.0353   \n",
       "7                              Dominance                     42.2   \n",
       "8              Amount of Github Commits   32.998 (as of 18.03.22)   \n",
       "9                               Launched                     2008   \n",
       "\n",
       "          Ethereum ETH          Binance Chain BNB                 Ripple XRP  \\\n",
       "0              2639.04                     379.61                     0.7514   \n",
       "1                  316                         62                         36   \n",
       "2                 12.4                       1.67                       2.27   \n",
       "3                  407                         53                        109   \n",
       "4           119,83 ETH                    165 BNB                  99980 XRP   \n",
       "5                128.5                       85.5                        154   \n",
       "6               0.0392                     0.0266                      0.063   \n",
       "7                   18                       3.57                          2   \n",
       "8  42.457 (as of 2021)  12.808 (as of 18.03.2022)  12.613 (as of 18.03.2022)   \n",
       "9                 2015                       2017                       2012   \n",
       "\n",
       "           Cardano ADA  \n",
       "0                 0.86  \n",
       "1                   29  \n",
       "2                 1.04  \n",
       "3                   29  \n",
       "4            34160 ADA  \n",
       "5                  100  \n",
       "6                0.035  \n",
       "7                 1.65  \n",
       "8  37.327 (as of 2021)  \n",
       "9                 2017  "
      ]
     },
     "execution_count": 1,
     "metadata": {},
     "output_type": "execute_result"
    }
   ],
   "source": [
    "import pandas as pd\n",
    "\n",
    "excel_path = \"../datasets/coins_comparison.xlsx\"\n",
    "df_sheet1 = pd.read_excel(excel_path,sheet_name=0)\n",
    "pd.set_option(\"display.max.columns\", None)\n",
    "df_sheet1.head(10)"
   ]
  },
  {
   "cell_type": "markdown",
   "metadata": {},
   "source": [
    "## Visualise the data"
   ]
  },
  {
   "cell_type": "markdown",
   "metadata": {},
   "source": [
    "## Marketcap & Volume"
   ]
  },
  {
   "cell_type": "code",
   "execution_count": 2,
   "metadata": {},
   "outputs": [
    {
     "data": {
      "image/png": "[encoded data removed]",
      "text/plain": [
       "<Figure size 576x396 with 1 Axes>"
      ]
     },
     "metadata": {},
     "output_type": "display_data"
    }
   ],
   "source": [
    "import matplotlib.pyplot as plt\n",
    "\n",
    "plt.style.use('seaborn')\n",
    "plt.title(\"Marketcap\")\n",
    "plt.ylabel(\"in billion U.S. Dollars\")\n",
    "df_sheet1.iloc[1][1:].plot(kind=\"bar\")\n",
    "plt.show()"
   ]
  },
  {
   "cell_type": "code",
   "execution_count": 4,
   "metadata": {},
   "outputs": [
    {
     "data": {
      "image/png": "[encoded data removed]",
      "text/plain": [
       "<Figure size 576x396 with 1 Axes>"
      ]
     },
     "metadata": {},
     "output_type": "display_data"
    }
   ],
   "source": [
    "import numpy as np\n",
    "\n",
    "y1 = df_sheet1.iloc[1][1:]\n",
    "y2 = df_sheet1.iloc[3][1:]\n",
    "x1 = np.arange(len(df_sheet1.columns.values.tolist()[1:]))\n",
    "plt.bar(x1,y1, color=\"deepskyblue\", label=\"Marketcap\")\n",
    "plt.bar(x1,y2, color=\"black\", label=\"Volume (30days)\", alpha=0.5)\n",
    "plt.xticks([r + 0.2 for r in range(len(x1))],\n",
    "        ['@Bitcoin', '@Ethereum', '@BNBCHAIN', '@Ripple_XRP1', '@Cardano'], fontweight=\"bold\")\n",
    "plt.tight_layout()\n",
    "plt.legend()\n",
    "plt.show()"
   ]
  },
  {
   "cell_type": "markdown",
   "metadata": {},
   "source": [
    "# Volume (30 days) / Total Circulating Supply\n",
    "Why is this interesting?\n",
    "As you can see in the following diagram, the total circulating supply differs a lot. While the first three Coins are in the millions, XRP and ADA are in the Billions. But not only that. There is also a very big difference in the maximum Supply of Coins. For Bitcoin, there will never be more thant 21 mio. Bitcoins. Ripple and Cardano have a hard cap aswell (100 bil. and 45 bil.) and Binance initially offered 200 billion BNB but conducts a quarterly burning with the goal to have 100 billion left at the end. Ethereum, to the contrary, does not have a maximum Supply. The hard cap and the halving of Mining rewards every four years ensures that Bitcoin is deflationary by design. Ethereum handles this with burning ETH, but can still issue new ETH.\n",
    "\n",
    "Now that we know that for the most of these four coins, new coins can be mined, let's see how much of the total circulating supply is being traded in a month:\n"
   ]
  },
  {
   "cell_type": "code",
   "execution_count": null,
   "metadata": {},
   "outputs": [
    {
     "data": {
      "image/png": "[encoded data removed]",
      "text/plain": [
       "<Figure size 576x396 with 1 Axes>"
      ]
     },
     "metadata": {},
     "output_type": "display_data"
    }
   ],
   "source": [
    "plt.style.use('seaborn')\n",
    "plt.title(\"How much of the circulating supply is traded in a month?\")\n",
    "plt.ylabel(\"in Percent\")\n",
    "df_sheet1.iloc[5][1:].plot(kind=\"bar\")\n",
    "plt.show()"
   ]
  },
  {
   "cell_type": "markdown",
   "metadata": {},
   "source": [
    "It can be seen that BNB is traded at around 85% of the total circulating supply in a month while XRP is trading 154% of the total supply in a month. That's massive. This shows that Cryptocurrency is more similar to FIAT-Currency than to other investments like stocks. \n",
    "\n",
    "### What does this mean for our trading purpose?\n",
    "When there is more trading there is more liquidity in the market and therefore orders are fulfilled faster and cheaper. "
   ]
  },
  {
   "cell_type": "markdown",
   "metadata": {},
   "source": [
    "# Social Media Relevance \n",
    "### A Snapshot from 14th of March "
   ]
  },
  {
   "cell_type": "code",
   "execution_count": null,
   "metadata": {},
   "outputs": [
    {
     "data": {
      "text/html": [
       "<div>\n",
       "<style scoped>\n",
       "    .dataframe tbody tr th:only-of-type {\n",
       "        vertical-align: middle;\n",
       "    }\n",
       "\n",
       "    .dataframe tbody tr th {\n",
       "        vertical-align: top;\n",
       "    }\n",
       "\n",
       "    .dataframe thead th {\n",
       "        text-align: right;\n",
       "    }\n",
       "</style>\n",
       "<table border=\"1\" class=\"dataframe\">\n",
       "  <thead>\n",
       "    <tr style=\"text-align: right;\">\n",
       "      <th></th>\n",
       "      <th>Twitter Handle</th>\n",
       "      <th>@Bitcoin</th>\n",
       "      <th>@ethereum</th>\n",
       "      <th>@BNBCHAIN</th>\n",
       "      <th>@Ripple_XRP1</th>\n",
       "      <th>@Cardano</th>\n",
       "    </tr>\n",
       "  </thead>\n",
       "  <tbody>\n",
       "    <tr>\n",
       "      <th>0</th>\n",
       "      <td>Twitter Followers (in million)</td>\n",
       "      <td>4.8</td>\n",
       "      <td>2.2</td>\n",
       "      <td>2.100</td>\n",
       "      <td>0.311</td>\n",
       "      <td>1.2</td>\n",
       "    </tr>\n",
       "    <tr>\n",
       "      <th>1</th>\n",
       "      <td>Amount of Tweets from their Twitter Acc.</td>\n",
       "      <td>23600.0</td>\n",
       "      <td>3273.0</td>\n",
       "      <td>6238.000</td>\n",
       "      <td>5722.000</td>\n",
       "      <td>4853</td>\n",
       "    </tr>\n",
       "    <tr>\n",
       "      <th>2</th>\n",
       "      <td>Tweets in the last hour about their hashtag (18.03.2022)</td>\n",
       "      <td>2330.0</td>\n",
       "      <td>2390.0</td>\n",
       "      <td>3320.000</td>\n",
       "      <td>6350.000</td>\n",
       "      <td>1020</td>\n",
       "    </tr>\n",
       "    <tr>\n",
       "      <th>3</th>\n",
       "      <td>Reddit Members (in million)</td>\n",
       "      <td>4.0</td>\n",
       "      <td>1.2</td>\n",
       "      <td>0.814</td>\n",
       "      <td>0.310</td>\n",
       "      <td>0.694</td>\n",
       "    </tr>\n",
       "  </tbody>\n",
       "</table>\n",
       "</div>"
      ],
      "text/plain": [
       "                                             Twitter Handle  @Bitcoin  \\\n",
       "0                            Twitter Followers (in million)       4.8   \n",
       "1                  Amount of Tweets from their Twitter Acc.   23600.0   \n",
       "2  Tweets in the last hour about their hashtag (18.03.2022)    2330.0   \n",
       "3                               Reddit Members (in million)       4.0   \n",
       "\n",
       "   @ethereum  @BNBCHAIN  @Ripple_XRP1 @Cardano  \n",
       "0        2.2      2.100         0.311      1.2  \n",
       "1     3273.0   6238.000      5722.000    4853   \n",
       "2     2390.0   3320.000      6350.000     1020  \n",
       "3        1.2      0.814         0.310    0.694  "
      ]
     },
     "execution_count": 4,
     "metadata": {},
     "output_type": "execute_result"
    }
   ],
   "source": [
    "# Reading the second sheet\n",
    "df_sheet2 = pd.read_excel(excel_path,sheet_name=1)\n",
    "pd.set_option(\"display.max.colwidth\", None)\n",
    "df_sheet2.head(10)"
   ]
  },
  {
   "cell_type": "code",
   "execution_count": null,
   "metadata": {},
   "outputs": [
    {
     "data": {
      "image/png": "[encoded data removed]",
      "text/plain": [
       "<Figure size 576x396 with 1 Axes>"
      ]
     },
     "metadata": {},
     "output_type": "display_data"
    }
   ],
   "source": [
    "import numpy as np\n",
    "\n",
    "# Getting the data from the Dataframe\n",
    "y1 = df_sheet2.iloc[0][1:] #1 Row: Twitter Followers\n",
    "y2 = df_sheet2.iloc[3][1:] #4 Row: Reddit Members/Followers\n",
    "x1 = np.arange(len(df_sheet2.columns.values.tolist()[1:]))\n",
    "barWidth=0.35\n",
    "x2 = [x + barWidth for x in x1]\n",
    "\n",
    "# Set the args for the bar-diagram\n",
    "plt.bar(x1, y1, color=\"deepskyblue\", label=\"Twitter\", width=barWidth)\n",
    "plt.bar(x2 ,y2, color=\"orangered\", label=\"Reddit\", width=barWidth)\n",
    "\n",
    "# Styling the diagram\n",
    "plt.style.use('seaborn')\n",
    "plt.title(\"Followers\", fontweight=\"bold\")\n",
    "plt.ylabel(\"in million\", fontweight=\"bold\")\n",
    "plt.xticks([r + barWidth for r in range(len(x1))],\n",
    "        ['@Bitcoin', '@Ethereum', '@BNBCHAIN', '@Ripple_XRP1', '@Cardano'], fontweight=\"bold\")\n",
    "plt.legend()\n",
    "\n",
    "plt.show()"
   ]
  },
  {
   "cell_type": "markdown",
   "metadata": {},
   "source": [
    "Since there is a lot of volatility and hype in the cryptocurrency world the amount of talk about one cryptocurrency can change in minutes. Twitter can show you the amount of tweets in the last hour when you search for a hashtag or cashtag. For these five Coins the range of tweets can be anything up to 8000 tweets in the last hour. This obviously depends on the timezone (CET /UTC+1). On a random day ( 18.03.2022) the hashtag #xrp was the strongest (6350 tweets in the last hour) and just 5 days later, on the 23rd of March, #btc trended with 7480 tweets in the last hour. At the same time #bnbchain had only 460 tweets in the last hour.\n",
    "\n",
    "It is also quite random which hash- or cashtag will be trending and there are lots of different synonyms or variations for each Coins. #btc #bitcoin #btcusd is commonly being used to talk about Bitcoin but this range can expand greatly. \n",
    "Especially when the name of the Blockchain, for example Cardano, is different than the name of their underlying Cryptocurrency, which is being called Ada. So, in case of Cardano, there are many more different hash- and cashtags: #cardano #ada $ada #cardanoada #cardanocommunity and since Cardano has one of the most Developers there exists a lot of talk about #buildingoncardano or #builtoncardano. All these different synonyms and variations need to be considered and evaluated to get the sentiment about one Cryptocurrency. \n",
    "\n",
    "In case of Ethereum, the cashtag $eth is typically being more used than the #eth and is often misspelled but still trending (Etherum instead of Ethereum). As you can see in the following picture, twitter only shows these hints about the amount of tweets when you search for this exact hashtag and even then you need to be lucky that twitter shows it. Thus, this can’t be really used as a qualified statistic to compare the sentiment about the Coins."
   ]
  }
 ],
 "metadata": {
  "interpreter": {
   "hash": "0e36d81fae50d8f4e684e367fe165e2245dfb1aafe1cb89b75b7937b3ad79793"
  },
  "kernelspec": {
   "display_name": "Python 3.9.7 ('sentiment')",
   "language": "python",
   "name": "python3"
  },
  "language_info": {
   "codemirror_mode": {
    "name": "ipython",
    "version": 3
   },
   "file_extension": ".py",
   "mimetype": "text/x-python",
   "name": "python",
   "nbconvert_exporter": "python",
   "pygments_lexer": "ipython3",
   "version": "3.9.7"
  },
  "orig_nbformat": 4
 },
 "nbformat": 4,
 "nbformat_minor": 2
}
