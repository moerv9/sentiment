{
 "cells": [
  {
   "cell_type": "markdown",
   "metadata": {},
   "source": [
    "# Cryptocurrency Analysis"
   ]
  },
  {
   "cell_type": "markdown",
   "metadata": {},
   "source": [
    "![Coinmarketcap from the 5.3.2022](../../img/coinmcap_532022.jpeg)"
   ]
  },
  {
   "cell_type": "markdown",
   "metadata": {},
   "source": [
    "## Choosing which Coins to analyse\n",
    "\n",
    "I want to talk about why I choose these Coins and these particular metrics.\n",
    "Stablecoins like Tether, USD Coin or Terra are not included in this Analysic since they are pegged to a FIAT Currency like the US-Dollar. It is totally normal to trade with Currencies or Stablecoins but you most likely loose to professionals and you need to use leverage to even get a good arbitrage. You can see in the following picture that the Trading-Volume (30days) of Tether is enormously more than the total circulating supply. While this is a good sign for liquidity and trading itself it is not very suitable for our Use-Case. Therefore we will focus on the Top 5 Cryptocurrencies based on Marketcapitalisation: Bitcoin, Ethereum's Ether, Binance Chain BNB, Ripples XRP and Cardanos ADA.\n",
    "\n",
    "I've made an Excel-Table to analyse different metrics about these Coins. Since Bitcoin is the pioneer and exists for more than 14 years now it is the most dominant Coin with the highest Marketcapitalisation. It stands now at about 740 billion $ but has already breached 1 trillion $ in February of 2021. Bitcoin reached a trillion Marketcap. in only 13 years. The first company to do that, Apple, took **38 years** for that.\n",
    "\n",
    "Ethereum is chasing Bitcoin and has already reached a dominance of 18% of the market. The Others seem quite small in comparison but when you see that they just exist for 5 years and already accumulated billions it quite impressive. "
   ]
  },
  {
   "cell_type": "markdown",
   "metadata": {},
   "source": [
    "## Visualise the data"
   ]
  },
  {
   "cell_type": "markdown",
   "metadata": {},
   "source": [
    "## Marketcap & Volume"
   ]
  },
  {
   "cell_type": "markdown",
   "metadata": {},
   "source": [
    "# Volume (30 days) / Total Circulating Supply\n",
    "Why is this interesting?\n",
    "As you can see in the following diagram, the total circulating supply differs a lot. While the first three Coins are in the millions, XRP and ADA are in the Billions. But not only that. There is also a very big difference in the maximum Supply of Coins. For Bitcoin, there will never be more thant 21 mio. Bitcoins. Ripple and Cardano have a hard cap aswell (100 bil. and 45 bil.) and Binance initially offered 200 billion BNB but conducts a quarterly burning with the goal to have 100 billion left at the end. Ethereum, to the contrary, does not have a maximum Supply. The hard cap and the halving of Mining rewards every four years ensures that Bitcoin is deflationary by design. Ethereum handles this with burning ETH, but can still issue new ETH.\n",
    "\n",
    "Now that we know that for the most of these four coins, new coins can be mined, let's see how much of the total circulating supply is being traded in a month:\n"
   ]
  },
  {
   "cell_type": "markdown",
   "metadata": {},
   "source": [
    "It can be seen that BNB is traded at around 85% of the total circulating supply in a month while XRP is trading 154% of the total supply in a month. That's massive. This shows that Cryptocurrency is more similar to FIAT-Currency than to other investments like stocks. \n",
    "\n",
    "### What does this mean for our trading purpose?\n",
    "When there is more trading there is more liquidity in the market and therefore orders are fulfilled faster and cheaper. "
   ]
  },
  {
   "cell_type": "markdown",
   "metadata": {},
   "source": [
    "# Social Media Relevance \n",
    "### A Snapshot from 14th of March "
   ]
  },
  {
   "cell_type": "markdown",
   "metadata": {},
   "source": [
    "Since there is a lot of volatility and hype in the cryptocurrency world the amount of talk about one cryptocurrency can change in minutes. Twitter can show you the amount of tweets in the last hour when you search for a hashtag or cashtag. For these five Coins the range of tweets can be anything up to 8000 tweets in the last hour. This obviously depends on the timezone (CET /UTC+1). On a random day ( 18.03.2022) the hashtag #xrp was the strongest (6350 tweets in the last hour) and just 5 days later, on the 23rd of March, #btc trended with 7480 tweets in the last hour. At the same time #bnbchain had only 460 tweets in the last hour.\n",
    "\n",
    "It is also quite random which hash- or cashtag will be trending and there are lots of different synonyms or variations for each Coins. #btc #bitcoin #btcusd is commonly being used to talk about Bitcoin but this range can expand greatly. \n",
    "Especially when the name of the Blockchain, for example Cardano, is different than the name of their underlying Cryptocurrency, which is being called Ada. So, in case of Cardano, there are many more different hash- and cashtags: #cardano #ada $ada #cardanoada #cardanocommunity and since Cardano has one of the most Developers there exists a lot of talk about #buildingoncardano or #builtoncardano. All these different synonyms and variations need to be considered and evaluated to get the sentiment about one Cryptocurrency. \n",
    "\n",
    "In case of Ethereum, the cashtag $eth is typically being more used than the #eth and is often misspelled but still trending (Etherum instead of Ethereum). As you can see in the following picture, twitter only shows these hints about the amount of tweets when you search for this exact hashtag and even then you need to be lucky that twitter shows it. Thus, this can’t be really used as a qualified statistic to compare the sentiment about the Coins."
   ]
  }
 ],
 "metadata": {
  "interpreter": {
   "hash": "0e36d81fae50d8f4e684e367fe165e2245dfb1aafe1cb89b75b7937b3ad79793"
  },
  "kernelspec": {
   "display_name": "Python 3.9.7 ('sentiment')",
   "language": "python",
   "name": "python3"
  },
  "language_info": {
   "codemirror_mode": {
    "name": "ipython",
    "version": 3
   },
   "file_extension": ".py",
   "mimetype": "text/x-python",
   "name": "python",
   "nbconvert_exporter": "python",
   "pygments_lexer": "ipython3",
   "version": "3.9.7"
  },
  "orig_nbformat": 4
 },
 "nbformat": 4,
 "nbformat_minor": 2
}
