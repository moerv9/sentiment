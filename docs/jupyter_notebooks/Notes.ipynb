{
 "cells": [
  {
   "cell_type": "markdown",
   "metadata": {},
   "source": [
    "# Analysis of Sentiment \n",
    "## Libraries for Natural Language Processing (NLP)\n",
    "\n",
    "### Textblob\n",
    "\n",
    "TextBlob returns polarity and subjectivity of a sentence. Polarity lies between [-1,1], -1 defines a negative sentiment and 1 defines a positive sentiment. Negation words reverse the polarity. TextBlob has semantic labels that help with fine-grained analysis. For example — emoticons, exclamation mark, emojis, etc. Subjectivity lies between [0,1]. Subjectivity quantifies the amount of personal opinion and factual information contained in the text. The higher subjectivity means that the text contains personal opinion rather than factual information. TextBlob has one more parameter — intensity. TextBlob calculates subjectivity by looking at the ‘intensity’. Intensity determines if a word modifies the next word. For English, adverbs are used as modifiers (‘very good’). (Source: https://towardsdatascience.com/my-absolute-go-to-for-sentiment-analysis-textblob-3ac3a11d524)\n",
    "\n",
    "### Vader\n",
    "#TODO\n",
    "### Flair\n",
    "#TODO\n",
    "### Decision to use Vader\n",
    "#TODO\n"
   ]
  },
  {
   "cell_type": "markdown",
   "metadata": {},
   "source": [
    "---\n",
    "# Process Tweets with the Twitter API\n",
    "## Libraries to access the Twitter API: Twint vs. Tweepy\n",
    "\n",
    "Instead of dealing with HTTP Requests, Data Serialisation and Rate Limits it is easier to use pre-built libraries to access the Twitter API and be able to focus more on building functionality. There are hundreds of different libraries but I've found two to be standing out and compared them: Tweepy vs. Twint.\n",
    "\n",
    "**Twint**\n",
    "* Does not need access to the official Twitter API and no Authentication\n",
    "* No limits on tweets\n",
    "* 12,7k Stars on Github with 845 commits (last Commit in March 2021)\n",
    "* Meant for grabbing tweets not for posting or sending DMs\n",
    "* Minimal documentation and not many tutorials\n",
    "\n",
    "**Tweepy**\n",
    "* uses Twitter API \n",
    "* Limits to last 3200 Tweets\n",
    "* 8,6k Stars on Github with 2914 commits (last Commit: 25.03.2022)\n",
    "* A lot of tutorials and good documentation \n",
    "\n",
    "Twint seems to have the upper hand because it does not need an authentication and has good filters for tweets (even cashtag filter). I wrote a simple test to acquire some tweets with Twint but a few days later this didn't work any longer. It appears that Twint can't retrieve any data. Look at [this](../jupyter_notebooks/SavedCodeSnippets.ipynb#Test-Twint). \n",
    "I cannot say now if this will work later on but since the Github hasn't been updated in more than a year I will just use Tweepy.\n",
    "\n",
    "Getting authorized from Twitter was easy. Login to the [Twitter Developer Portal](developer.twitter.com) and create a new Project and App. There you can generate and copy the neccessary token: API Key and Secret, Bearer Token for Twittert API V2 and the Access Token and Secret. The other four are needed for the Twitter API V1.  \n",
    "\n",
    "Authenticating with the Twitter API via Tweepy is easy as can be seen in all the Tweepy Notebooks (like [Get Tweets from Elon Musk](../jupyter_notebooks/getElonsTweets.ipynb)).\n",
    "\n",
    "### What does the Law say?\n",
    "\n",
    "The EU General Data Protection Regulation, or GDPR only applies to personal data.\n",
    " \n",
    "Here \"personal data\" refers to the data that could be used to directly or indirectly identify a specific individual. This kind of information is known as Personally Identifiable Information(PII), which includes a person's name, physical address, email address, phone number, IP address, date of birth, employment info and even video/audio recording.\n",
    "If you aren't scraping personal data, then GDPR does not apply.\n",
    "\n",
    "If you are not scraping EU you are good to go.\n",
    "([Source](https://www.octoparse.com/blog/gdpr-compliance-in-web-scraping))"
   ]
  },
  {
   "cell_type": "markdown",
   "metadata": {},
   "source": [
    "----"
   ]
  },
  {
   "cell_type": "markdown",
   "metadata": {},
   "source": [
    "\n",
    "# Visualisation with Streamlit\n",
    "With programming a lot of work will happen in the background and will never be seen.\n",
    "Since all the tweet data will be saved in table form in dataframes and a Postgresql Database and the sentiment analysis can be visualised in plots and diagrams, I will try to make a lot of work visible and understandable.\n",
    "\n",
    "I will use [Streamlit](https://streamlit.io) for this. Streamlit is an open-source Framework for building simple and interactive Machine-Learning and Data Science Web-Apps.\n",
    "\n",
    "\n",
    "Tweets from the History can be filtered here:\n",
    "https://share.streamlit.io/moerv9/sentiment/main/tweet_visualisation.py"
   ]
  }
 ],
 "metadata": {
  "kernelspec": {
   "display_name": "Python 3.9.7 ('dontbesentimental')",
   "language": "python",
   "name": "python3"
  },
  "language_info": {
   "name": "python",
   "version": "3.9.7"
  },
  "orig_nbformat": 4,
  "vscode": {
   "interpreter": {
    "hash": "f006eaa69a9e1242291392219277a0a973a697a6ded3a6ef5df3e91aa85b190b"
   }
  }
 },
 "nbformat": 4,
 "nbformat_minor": 2
}
