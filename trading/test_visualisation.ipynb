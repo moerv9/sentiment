{
 "cells": [
  {
   "cell_type": "markdown",
   "metadata": {},
   "source": [
    "[Link](https://www.youtube.com/watch?v=KdoGekqz2hg)"
   ]
  },
  {
   "cell_type": "code",
   "execution_count": 1,
   "metadata": {},
   "outputs": [
    {
     "name": "stdout",
     "output_type": "stream",
     "text": [
      "['Solarize_Light2', '_classic_test_patch', '_mpl-gallery', '_mpl-gallery-nogrid', 'bmh', 'classic', 'dark_background', 'fast', 'fivethirtyeight', 'ggplot', 'grayscale', 'seaborn', 'seaborn-bright', 'seaborn-colorblind', 'seaborn-dark', 'seaborn-dark-palette', 'seaborn-darkgrid', 'seaborn-deep', 'seaborn-muted', 'seaborn-notebook', 'seaborn-paper', 'seaborn-pastel', 'seaborn-poster', 'seaborn-talk', 'seaborn-ticks', 'seaborn-white', 'seaborn-whitegrid', 'tableau-colorblind10']\n"
     ]
    }
   ],
   "source": [
    "import matplotlib.pyplot as plt\n",
    "from matplotlib.animation import FuncAnimation\n",
    "from binance import Client\n",
    "import pandas as pd\n",
    "\n",
    "#Config\n",
    "import sys\n",
    "sys.path.insert(0,\"/Users/marvinottersberg/Documents/GitHub/sentiment/streamlit\")\n",
    "from config import ConfigBinance\n",
    "conf = ConfigBinance().getKeys()\n",
    "\n",
    "client = Client(conf[0],conf[1])\n",
    "\n",
    "plt.style.use(\"ggplot\")\n",
    "print(plt.style.available)\n",
    "\n",
    "asset = \"BTCUSDT\"\n",
    "\n"
   ]
  },
  {
   "cell_type": "code",
   "execution_count": 2,
   "metadata": {},
   "outputs": [],
   "source": [
    "def getminutedata(symbol,interval, lookback):\n",
    "    klines = client.get_historical_klines(asset,client.KLINE_INTERVAL_1MINUTE, \"1 day ago UTC\")\n",
    "    print(klines)\n",
    "    frame = pd.DataFrame(klines)\n",
    "    #frame = pd.DataFrame(client.get_historical_klines(symbol,interval,lookback))\n",
    "    frame = frame.iloc[:,:6]\n",
    "    frame.columns= [\"Time\",\"Open\",\"High\",\"Low\",\"Close\",\"Volume\"]\n",
    "    frame = frame.set_index(\"Time\")\n",
    "    frame.index = pd.to_datetime(frame.index,unit = \"ms\")\n",
    "    frame = frame.astype(float)\n",
    "    return frame\n"
   ]
  },
  {
   "cell_type": "code",
   "execution_count": null,
   "metadata": {},
   "outputs": [],
   "source": [
    "def getDateData(symbol,interval, start_str, end_str):\n",
    "    frame = pd.DataFrame(client.get_historical_klines(symbol,interval,start_str,end_str))\n",
    "    frame = frame.iloc[:,:6]\n",
    "    frame.columns= [\"Time\",\"Open\",\"High\",\"Low\",\"Close\",\"Volume\"]\n",
    "    frame = frame.set_index(\"Time\")\n",
    "    frame.index = pd.to_datetime(frame.index,unit=\"ms\",utc=True)\n",
    "    #frame.index = frame.index.strftime( \"%d-%m-%Y  %H:%M\")  \n",
    "    frame = frame.astype(float)\n",
    "    return frame\n",
    "\n",
    "#df = getDateData(asset,\"1m\",\"12 July, 2022 20:00:00\",\"12 July,2022 22:00:00\")"
   ]
  },
  {
   "cell_type": "code",
   "execution_count": null,
   "metadata": {},
   "outputs": [],
   "source": [
    "df = getminutedata(asset, \"1m\",\"120m\") #data every 1 minute for total lookback of 120 minutes\n"
   ]
  },
  {
   "cell_type": "code",
   "execution_count": 8,
   "metadata": {},
   "outputs": [],
   "source": [
    "def animate(i):\n",
    "    data = getminutedata(asset,\"1m\",\"120m\")\n",
    "    #plt.figure(figsize=((10,8)))\n",
    "    plt.cla()\n",
    "    plt.plot(data.index,data.Close)\n",
    "    plt.xlabel(\"Time\")\n",
    "    plt.ylabel(\"Price\")\n",
    "    plt.title(asset)\n",
    "    plt.gcf().autofmt_xdate() #adjust dates \n",
    "    plt.tight_layout()\n",
    "    "
   ]
  },
  {
   "cell_type": "code",
   "execution_count": 9,
   "metadata": {},
   "outputs": [
    {
     "data": {
      "text/plain": [
       "<Figure size 432x288 with 0 Axes>"
      ]
     },
     "metadata": {},
     "output_type": "display_data"
    },
    {
     "data": {
      "text/plain": [
       "<Figure size 720x576 with 0 Axes>"
      ]
     },
     "metadata": {},
     "output_type": "display_data"
    },
    {
     "name": "stderr",
     "output_type": "stream",
     "text": [
      "/Users/marvinottersberg/opt/anaconda3/envs/dontbesentimental/lib/python3.9/site-packages/matplotlib/animation.py:889: UserWarning: Animation was deleted without rendering anything. This is most likely not intended. To prevent deletion, assign the Animation to a variable, e.g. `anim`, that exists until you have outputted the Animation using `plt.show()` or `anim.save()`.\n",
      "  warnings.warn(\n"
     ]
    }
   ],
   "source": [
    "def getPlot():\n",
    "    ani = FuncAnimation(plt.gcf(),animate,1000) #updating every second\n",
    "    plt.figure(figsize=((10,8)))\n",
    "    plt.tight_layout()\n",
    "    plt.show()\n",
    "    return ani\n",
    "\n",
    "anim = getPlot()"
   ]
  },
  {
   "cell_type": "markdown",
   "metadata": {},
   "source": [
    "## Read Sentiment from Json and Visualise"
   ]
  },
  {
   "cell_type": "code",
   "execution_count": 6,
   "metadata": {},
   "outputs": [],
   "source": [
    "import os\n",
    "import pandas as pd"
   ]
  },
  {
   "cell_type": "code",
   "execution_count": 7,
   "metadata": {},
   "outputs": [],
   "source": [
    "\n",
    "def getSentiment():\n",
    "    json_path = \"sentiment/Json/12-07-2022/btc.json\"\n",
    "\n",
    "    df = pd.read_json(json_path,orient=\"index\")\n",
    "    df = df.filter(items=[\"Time\",\"Sentiment Score\"])\n",
    "    #df_unique = df[\"Time\"].unique()\n",
    "    df[\"Time\"] = pd.to_datetime(df[\"Time\"])\n",
    "    df_mean= df.resample(\"1T\",on=\"Time\").mean()\n",
    "    newdf = pd.DataFrame(df_mean)\n",
    "    #print(df_mean)\n",
    "    #print(newdf.to_string())\n",
    "\n"
   ]
  },
  {
   "cell_type": "code",
   "execution_count": null,
   "metadata": {},
   "outputs": [],
   "source": [
    "def getDatePlotWithSentiment():\n",
    "    data = getDateData(asset,\"1m\",\"12 July, 2022 16:00:00\",\"12 July,2022 22:00:00\")\n",
    "    sent = getSentiment()\n",
    "    plt.figure(figsize=((12,6)))\n",
    "    #plt.cla()\n",
    "    ax1 = plt.subplot(121)\n",
    "    plt.tick_params('x')\n",
    "    plt.title(f\"Price for {asset}\")\n",
    "\n",
    "    plt.plot(data.index,data.Close)\n",
    "    \n",
    "    ax2 = plt.subplot(122,label=\"Sentiment Score2\") #,sharex=ax1)\n",
    "    # make these tick labels invisible\n",
    "    plt.tick_params('x')   \n",
    "    plt.title(\"Sentiment Score\")\n",
    "    plt.plot(sent)#sent.index,sent[\"Sentiment Score\"].values)\n",
    "    \n",
    "    plt.gcf().autofmt_xdate()\n",
    "    plt.tight_layout()\n",
    "    plt.show()"
   ]
  }
 ],
 "metadata": {
  "kernelspec": {
   "display_name": "Python 3.9.7 ('dontbesentimental')",
   "language": "python",
   "name": "python3"
  },
  "language_info": {
   "codemirror_mode": {
    "name": "ipython",
    "version": 3
   },
   "file_extension": ".py",
   "mimetype": "text/x-python",
   "name": "python",
   "nbconvert_exporter": "python",
   "pygments_lexer": "ipython3",
   "version": "3.9.7"
  },
  "orig_nbformat": 4,
  "vscode": {
   "interpreter": {
    "hash": "f006eaa69a9e1242291392219277a0a973a697a6ded3a6ef5df3e91aa85b190b"
   }
  }
 },
 "nbformat": 4,
 "nbformat_minor": 2
}
