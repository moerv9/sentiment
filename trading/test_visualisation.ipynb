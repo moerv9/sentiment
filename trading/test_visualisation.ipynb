{
 "cells": [
  {
   "cell_type": "markdown",
   "metadata": {},
   "source": [
    "[Link](https://www.youtube.com/watch?v=KdoGekqz2hg)"
   ]
  },
  {
   "cell_type": "code",
   "execution_count": 12,
   "metadata": {},
   "outputs": [
    {
     "name": "stdout",
     "output_type": "stream",
     "text": [
      "['Solarize_Light2', '_classic_test_patch', '_mpl-gallery', '_mpl-gallery-nogrid', 'bmh', 'classic', 'dark_background', 'fast', 'fivethirtyeight', 'ggplot', 'grayscale', 'seaborn', 'seaborn-bright', 'seaborn-colorblind', 'seaborn-dark', 'seaborn-dark-palette', 'seaborn-darkgrid', 'seaborn-deep', 'seaborn-muted', 'seaborn-notebook', 'seaborn-paper', 'seaborn-pastel', 'seaborn-poster', 'seaborn-talk', 'seaborn-ticks', 'seaborn-white', 'seaborn-whitegrid', 'tableau-colorblind10']\n"
     ]
    }
   ],
   "source": [
    "import matplotlib.pyplot as plt\n",
    "from matplotlib.animation import FuncAnimation\n",
    "from binance import Client\n",
    "import pandas as pd\n",
    "\n",
    "#Config\n",
    "import sys\n",
    "sys.path.insert(0,\"/Users/marvinottersberg/Documents/GitHub/sentiment/\")\n",
    "from config import ConfigBinance\n",
    "conf = ConfigBinance().getKeys()\n",
    "\n",
    "client = Client(conf[0],conf[1])\n",
    "\n",
    "plt.style.use(\"ggplot\")\n",
    "print(plt.style.available)\n",
    "\n",
    "asset = \"BTCUSDT\"\n",
    "\n"
   ]
  },
  {
   "cell_type": "code",
   "execution_count": 13,
   "metadata": {},
   "outputs": [],
   "source": [
    "def getminutedata(symbol,interval, lookback):\n",
    "    frame = pd.DataFrame(client.get_historical_klines(symbol,interval,lookback))\n",
    "    frame = frame.iloc[:,:6]\n",
    "    frame.columns= [\"Time\",\"Open\",\"High\",\"Low\",\"Close\",\"Volume\"]\n",
    "    frame = frame.set_index(\"Time\")\n",
    "    frame.index = pd.to_datetime(frame.index,unit = \"ms\")\n",
    "    frame = frame.astype(float)\n",
    "    return frame\n"
   ]
  },
  {
   "cell_type": "code",
   "execution_count": 14,
   "metadata": {},
   "outputs": [
    {
     "data": {
      "text/html": [
       "<div>\n",
       "<style scoped>\n",
       "    .dataframe tbody tr th:only-of-type {\n",
       "        vertical-align: middle;\n",
       "    }\n",
       "\n",
       "    .dataframe tbody tr th {\n",
       "        vertical-align: top;\n",
       "    }\n",
       "\n",
       "    .dataframe thead th {\n",
       "        text-align: right;\n",
       "    }\n",
       "</style>\n",
       "<table border=\"1\" class=\"dataframe\">\n",
       "  <thead>\n",
       "    <tr style=\"text-align: right;\">\n",
       "      <th></th>\n",
       "      <th>Open</th>\n",
       "      <th>High</th>\n",
       "      <th>Low</th>\n",
       "      <th>Close</th>\n",
       "      <th>Volume</th>\n",
       "    </tr>\n",
       "    <tr>\n",
       "      <th>Time</th>\n",
       "      <th></th>\n",
       "      <th></th>\n",
       "      <th></th>\n",
       "      <th></th>\n",
       "      <th></th>\n",
       "    </tr>\n",
       "  </thead>\n",
       "  <tbody>\n",
       "    <tr>\n",
       "      <th>2022-07-14 05:00:00</th>\n",
       "      <td>20083.01</td>\n",
       "      <td>20105.94</td>\n",
       "      <td>20077.09</td>\n",
       "      <td>20102.63</td>\n",
       "      <td>162.45928</td>\n",
       "    </tr>\n",
       "    <tr>\n",
       "      <th>2022-07-14 05:01:00</th>\n",
       "      <td>20100.98</td>\n",
       "      <td>20118.53</td>\n",
       "      <td>20080.10</td>\n",
       "      <td>20082.64</td>\n",
       "      <td>148.31744</td>\n",
       "    </tr>\n",
       "    <tr>\n",
       "      <th>2022-07-14 05:02:00</th>\n",
       "      <td>20082.64</td>\n",
       "      <td>20087.46</td>\n",
       "      <td>20066.45</td>\n",
       "      <td>20073.18</td>\n",
       "      <td>91.93017</td>\n",
       "    </tr>\n",
       "    <tr>\n",
       "      <th>2022-07-14 05:03:00</th>\n",
       "      <td>20072.33</td>\n",
       "      <td>20094.40</td>\n",
       "      <td>20064.17</td>\n",
       "      <td>20090.25</td>\n",
       "      <td>146.82108</td>\n",
       "    </tr>\n",
       "    <tr>\n",
       "      <th>2022-07-14 05:04:00</th>\n",
       "      <td>20090.25</td>\n",
       "      <td>20104.95</td>\n",
       "      <td>20080.60</td>\n",
       "      <td>20099.52</td>\n",
       "      <td>58.56203</td>\n",
       "    </tr>\n",
       "    <tr>\n",
       "      <th>...</th>\n",
       "      <td>...</td>\n",
       "      <td>...</td>\n",
       "      <td>...</td>\n",
       "      <td>...</td>\n",
       "      <td>...</td>\n",
       "    </tr>\n",
       "    <tr>\n",
       "      <th>2022-07-14 06:55:00</th>\n",
       "      <td>20018.27</td>\n",
       "      <td>20027.15</td>\n",
       "      <td>20012.26</td>\n",
       "      <td>20020.66</td>\n",
       "      <td>64.79446</td>\n",
       "    </tr>\n",
       "    <tr>\n",
       "      <th>2022-07-14 06:56:00</th>\n",
       "      <td>20020.66</td>\n",
       "      <td>20032.00</td>\n",
       "      <td>20017.05</td>\n",
       "      <td>20020.59</td>\n",
       "      <td>72.22679</td>\n",
       "    </tr>\n",
       "    <tr>\n",
       "      <th>2022-07-14 06:57:00</th>\n",
       "      <td>20022.15</td>\n",
       "      <td>20032.73</td>\n",
       "      <td>20009.49</td>\n",
       "      <td>20028.67</td>\n",
       "      <td>110.66727</td>\n",
       "    </tr>\n",
       "    <tr>\n",
       "      <th>2022-07-14 06:58:00</th>\n",
       "      <td>20028.67</td>\n",
       "      <td>20043.01</td>\n",
       "      <td>20024.32</td>\n",
       "      <td>20043.01</td>\n",
       "      <td>62.54525</td>\n",
       "    </tr>\n",
       "    <tr>\n",
       "      <th>2022-07-14 06:59:00</th>\n",
       "      <td>20041.02</td>\n",
       "      <td>20046.21</td>\n",
       "      <td>20021.09</td>\n",
       "      <td>20021.42</td>\n",
       "      <td>69.80459</td>\n",
       "    </tr>\n",
       "  </tbody>\n",
       "</table>\n",
       "<p>120 rows × 5 columns</p>\n",
       "</div>"
      ],
      "text/plain": [
       "                         Open      High       Low     Close     Volume\n",
       "Time                                                                  \n",
       "2022-07-14 05:00:00  20083.01  20105.94  20077.09  20102.63  162.45928\n",
       "2022-07-14 05:01:00  20100.98  20118.53  20080.10  20082.64  148.31744\n",
       "2022-07-14 05:02:00  20082.64  20087.46  20066.45  20073.18   91.93017\n",
       "2022-07-14 05:03:00  20072.33  20094.40  20064.17  20090.25  146.82108\n",
       "2022-07-14 05:04:00  20090.25  20104.95  20080.60  20099.52   58.56203\n",
       "...                       ...       ...       ...       ...        ...\n",
       "2022-07-14 06:55:00  20018.27  20027.15  20012.26  20020.66   64.79446\n",
       "2022-07-14 06:56:00  20020.66  20032.00  20017.05  20020.59   72.22679\n",
       "2022-07-14 06:57:00  20022.15  20032.73  20009.49  20028.67  110.66727\n",
       "2022-07-14 06:58:00  20028.67  20043.01  20024.32  20043.01   62.54525\n",
       "2022-07-14 06:59:00  20041.02  20046.21  20021.09  20021.42   69.80459\n",
       "\n",
       "[120 rows x 5 columns]"
      ]
     },
     "execution_count": 14,
     "metadata": {},
     "output_type": "execute_result"
    }
   ],
   "source": [
    "df = getminutedata(asset, \"1m\",\"120m\") #data every 1 minute for total lookback of 120 minutes\n",
    "\n",
    "df\n"
   ]
  },
  {
   "cell_type": "code",
   "execution_count": 15,
   "metadata": {},
   "outputs": [],
   "source": [
    "def animate(i):\n",
    "    data = getminutedata(asset,\"1m\",\"120m\")\n",
    "    #plt.figure(figsize=((10,8)))\n",
    "    plt.cla()\n",
    "    plt.plot(data.index,data.Close)\n",
    "    plt.xlabel(\"Time\")\n",
    "    plt.ylabel(\"Price\")\n",
    "    plt.title(asset)\n",
    "    plt.gcf().autofmt_xdate() #adjust dates \n",
    "    plt.tight_layout()\n",
    "    "
   ]
  },
  {
   "cell_type": "code",
   "execution_count": 16,
   "metadata": {},
   "outputs": [
    {
     "data": {
      "text/plain": [
       "<Figure size 432x288 with 0 Axes>"
      ]
     },
     "metadata": {},
     "output_type": "display_data"
    },
    {
     "data": {
      "text/plain": [
       "<Figure size 720x576 with 0 Axes>"
      ]
     },
     "metadata": {},
     "output_type": "display_data"
    }
   ],
   "source": [
    "def getPlot():\n",
    "    ani = FuncAnimation(plt.gcf(),animate,1000) #updating every second\n",
    "    plt.figure(figsize=((10,8)))\n",
    "    plt.tight_layout()\n",
    "    plt.show()\n",
    "    return ani\n",
    "\n",
    "anim = getPlot()"
   ]
  },
  {
   "cell_type": "markdown",
   "metadata": {},
   "source": [
    "## Read Sentiment from Json and Visualise"
   ]
  },
  {
   "cell_type": "code",
   "execution_count": 17,
   "metadata": {},
   "outputs": [],
   "source": [
    "import os\n",
    "import pandas as pd"
   ]
  },
  {
   "cell_type": "code",
   "execution_count": 18,
   "metadata": {},
   "outputs": [],
   "source": [
    "\n",
    "def getSentiment():\n",
    "    json_path = \"sentiment/Json/12-07-2022/btc.json\"\n",
    "\n",
    "    df = pd.read_json(json_path,orient=\"index\")\n",
    "    df = df.filter(items=[\"Time\",\"Sentiment Score\"])\n",
    "    #df_unique = df[\"Time\"].unique()\n",
    "    df[\"Time\"] = pd.to_datetime(df[\"Time\"])\n",
    "    df_mean= df.resample(\"1T\",on=\"Time\").mean()\n",
    "    newdf = pd.DataFrame(df_mean)\n",
    "    #print(df_mean)\n",
    "    #print(newdf.to_string())\n",
    "\n"
   ]
  }
 ],
 "metadata": {
  "kernelspec": {
   "display_name": "Python 3.9.7 ('dontbesentimental')",
   "language": "python",
   "name": "python3"
  },
  "language_info": {
   "codemirror_mode": {
    "name": "ipython",
    "version": 3
   },
   "file_extension": ".py",
   "mimetype": "text/x-python",
   "name": "python",
   "nbconvert_exporter": "python",
   "pygments_lexer": "ipython3",
   "version": "3.9.7"
  },
  "orig_nbformat": 4,
  "vscode": {
   "interpreter": {
    "hash": "f006eaa69a9e1242291392219277a0a973a697a6ded3a6ef5df3e91aa85b190b"
   }
  }
 },
 "nbformat": 4,
 "nbformat_minor": 2
}
