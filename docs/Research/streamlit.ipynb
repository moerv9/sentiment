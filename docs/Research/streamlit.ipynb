{
 "cells": [
  {
   "cell_type": "markdown",
   "metadata": {},
   "source": [
    "# Visualisation with Streamlit"
   ]
  },
  {
   "cell_type": "markdown",
   "metadata": {},
   "source": [
    "With programming a lot of work will happen in the background and will never be seen.\n",
    "Since all the tweet data will be saved in table form in dataframes and a Postgresql Database and the sentiment analysis can be visualised in plots and diagrams, I will try to make a lot of work visible and understandable.\n",
    "\n",
    "I will use [Streamlit](https://streamlit.io) for this. Streamlit is an open-source Framework for building simple and interactive Machine-Learning and Data Science Web-Apps.\n",
    "\n",
    "\n",
    "Tweets from the History can be filtered here:\n",
    "https://share.streamlit.io/moerv9/sentiment/main/tweet_visualisation.py"
   ]
  }
 ],
 "metadata": {
  "language_info": {
   "name": "python"
  },
  "orig_nbformat": 4
 },
 "nbformat": 4,
 "nbformat_minor": 2
}
