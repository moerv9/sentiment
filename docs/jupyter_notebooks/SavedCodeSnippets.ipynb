{
 "cells": [
  {
   "cell_type": "markdown",
   "metadata": {},
   "source": [
    "## Streamlit"
   ]
  },
  {
   "cell_type": "markdown",
   "metadata": {},
   "source": [
    "streamlit run tweet_visualisation.py --logger.level=debug 2>logs.txt"
   ]
  },
  {
   "cell_type": "markdown",
   "metadata": {},
   "source": [
    "## Pandas\n",
    "\n",
    "to delete a dataframe column pandas\n",
    "    del df['Column Name]\n",
    "\n",
    "Number of Rows\n",
    "    df.shape[0]"
   ]
  },
  {
   "cell_type": "markdown",
   "metadata": {},
   "source": [
    "## Tweepy Scrape\n",
    "\n",
    "[Link](https://www.geeksforgeeks.org/extracting-tweets-containing-a-particular-hashtag-using-python/)\n"
   ]
  },
  {
   "cell_type": "code",
   "execution_count": null,
   "metadata": {},
   "outputs": [],
   "source": [
    "# Python Script to Extract tweets of a\n",
    "# particular Hashtag using Tweepy and Pandas\n",
    "\n",
    "# import modules\n",
    "import pandas as pd\n",
    "import tweepy\n",
    "\n",
    "# function to display data of each tweet\n",
    "def printtweetdata(n, ith_tweet):\n",
    "\t\tprint()\n",
    "\t\tprint(f\"Tweet {n}:\")\n",
    "\t\tprint(f\"Username:{ith_tweet[0]}\")\n",
    "\t\tprint(f\"Description:{ith_tweet[1]}\")\n",
    "\t\tprint(f\"Location:{ith_tweet[2]}\")\n",
    "\t\tprint(f\"Following Count:{ith_tweet[3]}\")\n",
    "\t\tprint(f\"Follower Count:{ith_tweet[4]}\")\n",
    "\t\tprint(f\"Total Tweets:{ith_tweet[5]}\")\n",
    "\t\tprint(f\"Retweet Count:{ith_tweet[6]}\")\n",
    "\t\tprint(f\"Tweet Text:{ith_tweet[7]}\")\n",
    "\t\tprint(f\"Hashtags Used:{ith_tweet[8]}\")\n",
    "\n",
    "\n",
    "# function to perform data extraction\n",
    "def scrape(words, date_since, numtweet):\n",
    "\n",
    "\t\t# Creating DataFrame using pandas\n",
    "\t\tdb = pd.DataFrame(columns=['username',\n",
    "\t\t\t\t\t\t\t\t'description',\n",
    "\t\t\t\t\t\t\t\t'location',\n",
    "\t\t\t\t\t\t\t\t'following',\n",
    "\t\t\t\t\t\t\t\t'followers',\n",
    "\t\t\t\t\t\t\t\t'totaltweets',\n",
    "\t\t\t\t\t\t\t\t'retweetcount',\n",
    "\t\t\t\t\t\t\t\t'text',\n",
    "\t\t\t\t\t\t\t\t'hashtags'])\n",
    "\n",
    "\t\t# We are using .Cursor() to search\n",
    "\t\t# through twitter for the required tweets.\n",
    "\t\t# The number of tweets can be\n",
    "\t\t# restricted using .items(number of tweets)\n",
    "\t\ttweets = tweepy.Cursor(api.search_tweets,\n",
    "\t\t\t\t\t\t\twords, lang=\"en\",\n",
    "\t\t\t\t\t\t\tsince_id=date_since,\n",
    "\t\t\t\t\t\t\ttweet_mode='extended').items(numtweet)\n",
    "\n",
    "\n",
    "\t\t# .Cursor() returns an iterable object. Each item in\n",
    "\t\t# the iterator has various attributes\n",
    "\t\t# that you can access to\n",
    "\t\t# get information about each tweet\n",
    "\t\tlist_tweets = [tweet for tweet in tweets]\n",
    "\n",
    "\t\t# Counter to maintain Tweet Count\n",
    "\t\ti = 1\n",
    "\n",
    "\t\t# we will iterate over each tweet in the\n",
    "\t\t# list for extracting information about each tweet\n",
    "\t\tfor tweet in list_tweets:\n",
    "\t\t\t\tusername = tweet.user.screen_name\n",
    "\t\t\t\tdescription = tweet.user.description\n",
    "\t\t\t\tlocation = tweet.user.location\n",
    "\t\t\t\tfollowing = tweet.user.friends_count\n",
    "\t\t\t\tfollowers = tweet.user.followers_count\n",
    "\t\t\t\ttotaltweets = tweet.user.statuses_count\n",
    "\t\t\t\tretweetcount = tweet.retweet_count\n",
    "\t\t\t\thashtags = tweet.entities['hashtags']\n",
    "\n",
    "\t\t\t\t# Retweets can be distinguished by\n",
    "\t\t\t\t# a retweeted_status attribute,\n",
    "\t\t\t\t# in case it is an invalid reference,\n",
    "\t\t\t\t# except block will be executed\n",
    "\t\t\t\ttry:\n",
    "\t\t\t\t\t\ttext = tweet.retweeted_status.full_text\n",
    "\t\t\t\texcept AttributeError:\n",
    "\t\t\t\t\t\ttext = tweet.full_text\n",
    "\t\t\t\thashtext = list()\n",
    "\t\t\t\tfor j in range(0, len(hashtags)):\n",
    "\t\t\t\t\t\thashtext.append(hashtags[j]['text'])\n",
    "\n",
    "\t\t\t\t# Here we are appending all the\n",
    "\t\t\t\t# extracted information in the DataFrame\n",
    "\t\t\t\tith_tweet = [username, description,\n",
    "\t\t\t\t\t\t\tlocation, following,\n",
    "\t\t\t\t\t\t\tfollowers, totaltweets,\n",
    "\t\t\t\t\t\t\tretweetcount, text, hashtext]\n",
    "\t\t\t\tdb.loc[len(db)] = ith_tweet\n",
    "\n",
    "\t\t\t\t# Function call to print tweet data on screen\n",
    "\t\t\t\tprinttweetdata(i, ith_tweet)\n",
    "\t\t\t\ti = i+1\n",
    "\t\tfilename = 'scraped_tweets.csv'\n",
    "\n",
    "\t\t# we will save our database as a CSV file.\n",
    "\t\tdb.to_csv(filename)\n",
    "\n",
    "if __name__ == '__main__':\n",
    "\n",
    "\t\t# Enter your own credentials obtained\n",
    "\t\t# from your developer account\n",
    "\t\tconsumer_key = API_KEY\n",
    "\t\tconsumer_secret = API_SECRET\n",
    "\t\taccess_key = ACCESS_TOKEN\n",
    "\t\taccess_secret = ACCESS_SECRET\n",
    "\n",
    "\n",
    "\t\tauth = tweepy.OAuthHandler(consumer_key, consumer_secret)\n",
    "\t\tauth.set_access_token(access_key, access_secret)\n",
    "\t\tapi = tweepy.API(auth)\n",
    "\n",
    "\t\t# Enter Hashtag and initial date\n",
    "\t\tprint(\"Enter Twitter HashTag to search for\")\n",
    "\t\twords = input()\n",
    "\t\tprint(\"Enter Date since The Tweets are required in yyyy-mm--dd\")\n",
    "\t\tdate_since = input()\n",
    "\n",
    "\t\t# number of tweets you want to extract in one run\n",
    "\t\tnumtweet = 100\n",
    "\t\tscrape(words, date_since, numtweet)\n",
    "\t\tprint('Scraping has completed!')\n"
   ]
  },
  {
   "cell_type": "markdown",
   "metadata": {},
   "source": [
    "## Mkdocs\n",
    "mkdocs gh-deploy"
   ]
  },
  {
   "cell_type": "markdown",
   "metadata": {},
   "source": [
    "## Test Twint\n",
    "\n"
   ]
  },
  {
   "cell_type": "code",
   "execution_count": 1,
   "metadata": {},
   "outputs": [
    {
     "name": "stderr",
     "output_type": "stream",
     "text": [
      "CRITICAL:root:twint.run:Twint:Feed:noDataExpecting value: line 1 column 1 (char 0)\n",
      "sleeping for 1.0 secs\n",
      "CRITICAL:root:twint.run:Twint:Feed:noDataExpecting value: line 1 column 1 (char 0)\n",
      "sleeping for 8.0 secs\n"
     ]
    },
    {
     "ename": "KeyboardInterrupt",
     "evalue": "",
     "output_type": "error",
     "traceback": [
      "\u001b[0;31m---------------------------------------------------------------------------\u001b[0m",
      "\u001b[0;31mJSONDecodeError\u001b[0m                           Traceback (most recent call last)",
      "File \u001b[0;32m~/opt/anaconda3/envs/dontbesentimental/lib/python3.9/site-packages/twint/run.py:65\u001b[0m, in \u001b[0;36mTwint.Feed\u001b[0;34m(self)\u001b[0m\n\u001b[1;32m     <a href='file:///Users/marvinottersberg/opt/anaconda3/envs/dontbesentimental/lib/python3.9/site-packages/twint/run.py?line=63'>64</a>\u001b[0m \u001b[39melif\u001b[39;00m \u001b[39mself\u001b[39m\u001b[39m.\u001b[39mconfig\u001b[39m.\u001b[39mTwitterSearch:\n\u001b[0;32m---> <a href='file:///Users/marvinottersberg/opt/anaconda3/envs/dontbesentimental/lib/python3.9/site-packages/twint/run.py?line=64'>65</a>\u001b[0m     \u001b[39mself\u001b[39m\u001b[39m.\u001b[39mfeed, \u001b[39mself\u001b[39m\u001b[39m.\u001b[39minit \u001b[39m=\u001b[39m feed\u001b[39m.\u001b[39;49mJson(response)\n\u001b[1;32m     <a href='file:///Users/marvinottersberg/opt/anaconda3/envs/dontbesentimental/lib/python3.9/site-packages/twint/run.py?line=65'>66</a>\u001b[0m \u001b[39mbreak\u001b[39;00m\n",
      "File \u001b[0;32m~/opt/anaconda3/envs/dontbesentimental/lib/python3.9/site-packages/twint/feed.py:42\u001b[0m, in \u001b[0;36mJson\u001b[0;34m(response)\u001b[0m\n\u001b[1;32m     <a href='file:///Users/marvinottersberg/opt/anaconda3/envs/dontbesentimental/lib/python3.9/site-packages/twint/feed.py?line=40'>41</a>\u001b[0m logme\u001b[39m.\u001b[39mdebug(\u001b[39m__name__\u001b[39m\u001b[39m+\u001b[39m\u001b[39m'\u001b[39m\u001b[39m:Json\u001b[39m\u001b[39m'\u001b[39m)\n\u001b[0;32m---> <a href='file:///Users/marvinottersberg/opt/anaconda3/envs/dontbesentimental/lib/python3.9/site-packages/twint/feed.py?line=41'>42</a>\u001b[0m json_response \u001b[39m=\u001b[39m loads(response)\n\u001b[1;32m     <a href='file:///Users/marvinottersberg/opt/anaconda3/envs/dontbesentimental/lib/python3.9/site-packages/twint/feed.py?line=42'>43</a>\u001b[0m html \u001b[39m=\u001b[39m json_response[\u001b[39m\"\u001b[39m\u001b[39mitems_html\u001b[39m\u001b[39m\"\u001b[39m]\n",
      "File \u001b[0;32m~/opt/anaconda3/envs/dontbesentimental/lib/python3.9/json/__init__.py:346\u001b[0m, in \u001b[0;36mloads\u001b[0;34m(s, cls, object_hook, parse_float, parse_int, parse_constant, object_pairs_hook, **kw)\u001b[0m\n\u001b[1;32m    <a href='file:///Users/marvinottersberg/opt/anaconda3/envs/dontbesentimental/lib/python3.9/json/__init__.py?line=342'>343</a>\u001b[0m \u001b[39mif\u001b[39;00m (\u001b[39mcls\u001b[39m \u001b[39mis\u001b[39;00m \u001b[39mNone\u001b[39;00m \u001b[39mand\u001b[39;00m object_hook \u001b[39mis\u001b[39;00m \u001b[39mNone\u001b[39;00m \u001b[39mand\u001b[39;00m\n\u001b[1;32m    <a href='file:///Users/marvinottersberg/opt/anaconda3/envs/dontbesentimental/lib/python3.9/json/__init__.py?line=343'>344</a>\u001b[0m         parse_int \u001b[39mis\u001b[39;00m \u001b[39mNone\u001b[39;00m \u001b[39mand\u001b[39;00m parse_float \u001b[39mis\u001b[39;00m \u001b[39mNone\u001b[39;00m \u001b[39mand\u001b[39;00m\n\u001b[1;32m    <a href='file:///Users/marvinottersberg/opt/anaconda3/envs/dontbesentimental/lib/python3.9/json/__init__.py?line=344'>345</a>\u001b[0m         parse_constant \u001b[39mis\u001b[39;00m \u001b[39mNone\u001b[39;00m \u001b[39mand\u001b[39;00m object_pairs_hook \u001b[39mis\u001b[39;00m \u001b[39mNone\u001b[39;00m \u001b[39mand\u001b[39;00m \u001b[39mnot\u001b[39;00m kw):\n\u001b[0;32m--> <a href='file:///Users/marvinottersberg/opt/anaconda3/envs/dontbesentimental/lib/python3.9/json/__init__.py?line=345'>346</a>\u001b[0m     \u001b[39mreturn\u001b[39;00m _default_decoder\u001b[39m.\u001b[39;49mdecode(s)\n\u001b[1;32m    <a href='file:///Users/marvinottersberg/opt/anaconda3/envs/dontbesentimental/lib/python3.9/json/__init__.py?line=346'>347</a>\u001b[0m \u001b[39mif\u001b[39;00m \u001b[39mcls\u001b[39m \u001b[39mis\u001b[39;00m \u001b[39mNone\u001b[39;00m:\n",
      "File \u001b[0;32m~/opt/anaconda3/envs/dontbesentimental/lib/python3.9/json/decoder.py:337\u001b[0m, in \u001b[0;36mJSONDecoder.decode\u001b[0;34m(self, s, _w)\u001b[0m\n\u001b[1;32m    <a href='file:///Users/marvinottersberg/opt/anaconda3/envs/dontbesentimental/lib/python3.9/json/decoder.py?line=332'>333</a>\u001b[0m \u001b[39m\"\"\"Return the Python representation of ``s`` (a ``str`` instance\u001b[39;00m\n\u001b[1;32m    <a href='file:///Users/marvinottersberg/opt/anaconda3/envs/dontbesentimental/lib/python3.9/json/decoder.py?line=333'>334</a>\u001b[0m \u001b[39mcontaining a JSON document).\u001b[39;00m\n\u001b[1;32m    <a href='file:///Users/marvinottersberg/opt/anaconda3/envs/dontbesentimental/lib/python3.9/json/decoder.py?line=334'>335</a>\u001b[0m \n\u001b[1;32m    <a href='file:///Users/marvinottersberg/opt/anaconda3/envs/dontbesentimental/lib/python3.9/json/decoder.py?line=335'>336</a>\u001b[0m \u001b[39m\"\"\"\u001b[39;00m\n\u001b[0;32m--> <a href='file:///Users/marvinottersberg/opt/anaconda3/envs/dontbesentimental/lib/python3.9/json/decoder.py?line=336'>337</a>\u001b[0m obj, end \u001b[39m=\u001b[39m \u001b[39mself\u001b[39;49m\u001b[39m.\u001b[39;49mraw_decode(s, idx\u001b[39m=\u001b[39;49m_w(s, \u001b[39m0\u001b[39;49m)\u001b[39m.\u001b[39;49mend())\n\u001b[1;32m    <a href='file:///Users/marvinottersberg/opt/anaconda3/envs/dontbesentimental/lib/python3.9/json/decoder.py?line=337'>338</a>\u001b[0m end \u001b[39m=\u001b[39m _w(s, end)\u001b[39m.\u001b[39mend()\n",
      "File \u001b[0;32m~/opt/anaconda3/envs/dontbesentimental/lib/python3.9/json/decoder.py:355\u001b[0m, in \u001b[0;36mJSONDecoder.raw_decode\u001b[0;34m(self, s, idx)\u001b[0m\n\u001b[1;32m    <a href='file:///Users/marvinottersberg/opt/anaconda3/envs/dontbesentimental/lib/python3.9/json/decoder.py?line=353'>354</a>\u001b[0m \u001b[39mexcept\u001b[39;00m \u001b[39mStopIteration\u001b[39;00m \u001b[39mas\u001b[39;00m err:\n\u001b[0;32m--> <a href='file:///Users/marvinottersberg/opt/anaconda3/envs/dontbesentimental/lib/python3.9/json/decoder.py?line=354'>355</a>\u001b[0m     \u001b[39mraise\u001b[39;00m JSONDecodeError(\u001b[39m\"\u001b[39m\u001b[39mExpecting value\u001b[39m\u001b[39m\"\u001b[39m, s, err\u001b[39m.\u001b[39mvalue) \u001b[39mfrom\u001b[39;00m \u001b[39mNone\u001b[39m\n\u001b[1;32m    <a href='file:///Users/marvinottersberg/opt/anaconda3/envs/dontbesentimental/lib/python3.9/json/decoder.py?line=355'>356</a>\u001b[0m \u001b[39mreturn\u001b[39;00m obj, end\n",
      "\u001b[0;31mJSONDecodeError\u001b[0m: Expecting value: line 1 column 1 (char 0)",
      "\nDuring handling of the above exception, another exception occurred:\n",
      "\u001b[0;31mKeyboardInterrupt\u001b[0m                         Traceback (most recent call last)",
      "\u001b[1;32m/Users/marvinottersberg/Documents/GitHub/sentiment/docs/jupyter_notebooks/SavedCodeSnippets.ipynb Cell 6'\u001b[0m in \u001b[0;36m<cell line: 9>\u001b[0;34m()\u001b[0m\n\u001b[1;32m      <a href='vscode-notebook-cell:/Users/marvinottersberg/Documents/GitHub/sentiment/docs/jupyter_notebooks/SavedCodeSnippets.ipynb#ch0000005?line=6'>7</a>\u001b[0m c\u001b[39m.\u001b[39mSearch \u001b[39m=\u001b[39m \u001b[39m\"\u001b[39m\u001b[39m#tsla\u001b[39m\u001b[39m\"\u001b[39m \u001b[39m#search keyword\u001b[39;00m\n\u001b[1;32m      <a href='vscode-notebook-cell:/Users/marvinottersberg/Documents/GitHub/sentiment/docs/jupyter_notebooks/SavedCodeSnippets.ipynb#ch0000005?line=7'>8</a>\u001b[0m c\u001b[39m.\u001b[39mLimit \u001b[39m=\u001b[39m \u001b[39m5\u001b[39m\n\u001b[0;32m----> <a href='vscode-notebook-cell:/Users/marvinottersberg/Documents/GitHub/sentiment/docs/jupyter_notebooks/SavedCodeSnippets.ipynb#ch0000005?line=8'>9</a>\u001b[0m twint\u001b[39m.\u001b[39;49mrun\u001b[39m.\u001b[39;49mSearch(c)\n",
      "File \u001b[0;32m~/opt/anaconda3/envs/dontbesentimental/lib/python3.9/site-packages/twint/run.py:327\u001b[0m, in \u001b[0;36mSearch\u001b[0;34m(config, callback)\u001b[0m\n\u001b[1;32m    <a href='file:///Users/marvinottersberg/opt/anaconda3/envs/dontbesentimental/lib/python3.9/site-packages/twint/run.py?line=324'>325</a>\u001b[0m config\u001b[39m.\u001b[39mProfile \u001b[39m=\u001b[39m \u001b[39mFalse\u001b[39;00m\n\u001b[1;32m    <a href='file:///Users/marvinottersberg/opt/anaconda3/envs/dontbesentimental/lib/python3.9/site-packages/twint/run.py?line=325'>326</a>\u001b[0m config\u001b[39m.\u001b[39mProfile_full \u001b[39m=\u001b[39m \u001b[39mFalse\u001b[39;00m\n\u001b[0;32m--> <a href='file:///Users/marvinottersberg/opt/anaconda3/envs/dontbesentimental/lib/python3.9/site-packages/twint/run.py?line=326'>327</a>\u001b[0m run(config, callback)\n\u001b[1;32m    <a href='file:///Users/marvinottersberg/opt/anaconda3/envs/dontbesentimental/lib/python3.9/site-packages/twint/run.py?line=327'>328</a>\u001b[0m \u001b[39mif\u001b[39;00m config\u001b[39m.\u001b[39mPandas_au:\n\u001b[1;32m    <a href='file:///Users/marvinottersberg/opt/anaconda3/envs/dontbesentimental/lib/python3.9/site-packages/twint/run.py?line=328'>329</a>\u001b[0m     storage\u001b[39m.\u001b[39mpanda\u001b[39m.\u001b[39m_autoget(\u001b[39m\"\u001b[39m\u001b[39mtweet\u001b[39m\u001b[39m\"\u001b[39m)\n",
      "File \u001b[0;32m~/opt/anaconda3/envs/dontbesentimental/lib/python3.9/site-packages/twint/run.py:226\u001b[0m, in \u001b[0;36mrun\u001b[0;34m(config, callback)\u001b[0m\n\u001b[1;32m    <a href='file:///Users/marvinottersberg/opt/anaconda3/envs/dontbesentimental/lib/python3.9/site-packages/twint/run.py?line=222'>223</a>\u001b[0m     logme\u001b[39m.\u001b[39mexception(\u001b[39m__name__\u001b[39m\u001b[39m+\u001b[39m\u001b[39m'\u001b[39m\u001b[39m:Lookup:Unexpected exception occured while attempting to get or create a new event loop.\u001b[39m\u001b[39m'\u001b[39m)\n\u001b[1;32m    <a href='file:///Users/marvinottersberg/opt/anaconda3/envs/dontbesentimental/lib/python3.9/site-packages/twint/run.py?line=223'>224</a>\u001b[0m     \u001b[39mraise\u001b[39;00m\n\u001b[0;32m--> <a href='file:///Users/marvinottersberg/opt/anaconda3/envs/dontbesentimental/lib/python3.9/site-packages/twint/run.py?line=225'>226</a>\u001b[0m get_event_loop()\u001b[39m.\u001b[39;49mrun_until_complete(Twint(config)\u001b[39m.\u001b[39;49mmain(callback))\n",
      "File \u001b[0;32m~/opt/anaconda3/envs/dontbesentimental/lib/python3.9/site-packages/nest_asyncio.py:64\u001b[0m, in \u001b[0;36m_patch_loop.<locals>.run_until_complete\u001b[0;34m(self, future)\u001b[0m\n\u001b[1;32m     <a href='file:///Users/marvinottersberg/opt/anaconda3/envs/dontbesentimental/lib/python3.9/site-packages/nest_asyncio.py?line=61'>62</a>\u001b[0m     f\u001b[39m.\u001b[39m_log_destroy_pending \u001b[39m=\u001b[39m \u001b[39mFalse\u001b[39;00m\n\u001b[1;32m     <a href='file:///Users/marvinottersberg/opt/anaconda3/envs/dontbesentimental/lib/python3.9/site-packages/nest_asyncio.py?line=62'>63</a>\u001b[0m \u001b[39mwhile\u001b[39;00m \u001b[39mnot\u001b[39;00m f\u001b[39m.\u001b[39mdone():\n\u001b[0;32m---> <a href='file:///Users/marvinottersberg/opt/anaconda3/envs/dontbesentimental/lib/python3.9/site-packages/nest_asyncio.py?line=63'>64</a>\u001b[0m     \u001b[39mself\u001b[39;49m\u001b[39m.\u001b[39;49m_run_once()\n\u001b[1;32m     <a href='file:///Users/marvinottersberg/opt/anaconda3/envs/dontbesentimental/lib/python3.9/site-packages/nest_asyncio.py?line=64'>65</a>\u001b[0m     \u001b[39mif\u001b[39;00m \u001b[39mself\u001b[39m\u001b[39m.\u001b[39m_stopping:\n\u001b[1;32m     <a href='file:///Users/marvinottersberg/opt/anaconda3/envs/dontbesentimental/lib/python3.9/site-packages/nest_asyncio.py?line=65'>66</a>\u001b[0m         \u001b[39mbreak\u001b[39;00m\n",
      "File \u001b[0;32m~/opt/anaconda3/envs/dontbesentimental/lib/python3.9/site-packages/nest_asyncio.py:100\u001b[0m, in \u001b[0;36m_patch_loop.<locals>._run_once\u001b[0;34m(self)\u001b[0m\n\u001b[1;32m     <a href='file:///Users/marvinottersberg/opt/anaconda3/envs/dontbesentimental/lib/python3.9/site-packages/nest_asyncio.py?line=97'>98</a>\u001b[0m     handle \u001b[39m=\u001b[39m ready\u001b[39m.\u001b[39mpopleft()\n\u001b[1;32m     <a href='file:///Users/marvinottersberg/opt/anaconda3/envs/dontbesentimental/lib/python3.9/site-packages/nest_asyncio.py?line=98'>99</a>\u001b[0m     \u001b[39mif\u001b[39;00m \u001b[39mnot\u001b[39;00m handle\u001b[39m.\u001b[39m_cancelled:\n\u001b[0;32m--> <a href='file:///Users/marvinottersberg/opt/anaconda3/envs/dontbesentimental/lib/python3.9/site-packages/nest_asyncio.py?line=99'>100</a>\u001b[0m         handle\u001b[39m.\u001b[39;49m_run()\n\u001b[1;32m    <a href='file:///Users/marvinottersberg/opt/anaconda3/envs/dontbesentimental/lib/python3.9/site-packages/nest_asyncio.py?line=100'>101</a>\u001b[0m handle \u001b[39m=\u001b[39m \u001b[39mNone\u001b[39;00m\n",
      "File \u001b[0;32m~/opt/anaconda3/envs/dontbesentimental/lib/python3.9/asyncio/events.py:80\u001b[0m, in \u001b[0;36mHandle._run\u001b[0;34m(self)\u001b[0m\n\u001b[1;32m     <a href='file:///Users/marvinottersberg/opt/anaconda3/envs/dontbesentimental/lib/python3.9/asyncio/events.py?line=77'>78</a>\u001b[0m \u001b[39mdef\u001b[39;00m \u001b[39m_run\u001b[39m(\u001b[39mself\u001b[39m):\n\u001b[1;32m     <a href='file:///Users/marvinottersberg/opt/anaconda3/envs/dontbesentimental/lib/python3.9/asyncio/events.py?line=78'>79</a>\u001b[0m     \u001b[39mtry\u001b[39;00m:\n\u001b[0;32m---> <a href='file:///Users/marvinottersberg/opt/anaconda3/envs/dontbesentimental/lib/python3.9/asyncio/events.py?line=79'>80</a>\u001b[0m         \u001b[39mself\u001b[39;49m\u001b[39m.\u001b[39;49m_context\u001b[39m.\u001b[39;49mrun(\u001b[39mself\u001b[39;49m\u001b[39m.\u001b[39;49m_callback, \u001b[39m*\u001b[39;49m\u001b[39mself\u001b[39;49m\u001b[39m.\u001b[39;49m_args)\n\u001b[1;32m     <a href='file:///Users/marvinottersberg/opt/anaconda3/envs/dontbesentimental/lib/python3.9/asyncio/events.py?line=80'>81</a>\u001b[0m     \u001b[39mexcept\u001b[39;00m (\u001b[39mSystemExit\u001b[39;00m, \u001b[39mKeyboardInterrupt\u001b[39;00m):\n\u001b[1;32m     <a href='file:///Users/marvinottersberg/opt/anaconda3/envs/dontbesentimental/lib/python3.9/asyncio/events.py?line=81'>82</a>\u001b[0m         \u001b[39mraise\u001b[39;00m\n",
      "File \u001b[0;32m~/opt/anaconda3/envs/dontbesentimental/lib/python3.9/site-packages/nest_asyncio.py:169\u001b[0m, in \u001b[0;36m_patch_task.<locals>.step\u001b[0;34m(task, exc)\u001b[0m\n\u001b[1;32m    <a href='file:///Users/marvinottersberg/opt/anaconda3/envs/dontbesentimental/lib/python3.9/site-packages/nest_asyncio.py?line=166'>167</a>\u001b[0m curr_task \u001b[39m=\u001b[39m curr_tasks\u001b[39m.\u001b[39mget(task\u001b[39m.\u001b[39m_loop)\n\u001b[1;32m    <a href='file:///Users/marvinottersberg/opt/anaconda3/envs/dontbesentimental/lib/python3.9/site-packages/nest_asyncio.py?line=167'>168</a>\u001b[0m \u001b[39mtry\u001b[39;00m:\n\u001b[0;32m--> <a href='file:///Users/marvinottersberg/opt/anaconda3/envs/dontbesentimental/lib/python3.9/site-packages/nest_asyncio.py?line=168'>169</a>\u001b[0m     step_orig(task, exc)\n\u001b[1;32m    <a href='file:///Users/marvinottersberg/opt/anaconda3/envs/dontbesentimental/lib/python3.9/site-packages/nest_asyncio.py?line=169'>170</a>\u001b[0m \u001b[39mfinally\u001b[39;00m:\n\u001b[1;32m    <a href='file:///Users/marvinottersberg/opt/anaconda3/envs/dontbesentimental/lib/python3.9/site-packages/nest_asyncio.py?line=170'>171</a>\u001b[0m     \u001b[39mif\u001b[39;00m curr_task \u001b[39mis\u001b[39;00m \u001b[39mNone\u001b[39;00m:\n",
      "File \u001b[0;32m~/opt/anaconda3/envs/dontbesentimental/lib/python3.9/asyncio/tasks.py:256\u001b[0m, in \u001b[0;36mTask.__step\u001b[0;34m(***failed resolving arguments***)\u001b[0m\n\u001b[1;32m    <a href='file:///Users/marvinottersberg/opt/anaconda3/envs/dontbesentimental/lib/python3.9/asyncio/tasks.py?line=251'>252</a>\u001b[0m \u001b[39mtry\u001b[39;00m:\n\u001b[1;32m    <a href='file:///Users/marvinottersberg/opt/anaconda3/envs/dontbesentimental/lib/python3.9/asyncio/tasks.py?line=252'>253</a>\u001b[0m     \u001b[39mif\u001b[39;00m exc \u001b[39mis\u001b[39;00m \u001b[39mNone\u001b[39;00m:\n\u001b[1;32m    <a href='file:///Users/marvinottersberg/opt/anaconda3/envs/dontbesentimental/lib/python3.9/asyncio/tasks.py?line=253'>254</a>\u001b[0m         \u001b[39m# We use the `send` method directly, because coroutines\u001b[39;00m\n\u001b[1;32m    <a href='file:///Users/marvinottersberg/opt/anaconda3/envs/dontbesentimental/lib/python3.9/asyncio/tasks.py?line=254'>255</a>\u001b[0m         \u001b[39m# don't have `__iter__` and `__next__` methods.\u001b[39;00m\n\u001b[0;32m--> <a href='file:///Users/marvinottersberg/opt/anaconda3/envs/dontbesentimental/lib/python3.9/asyncio/tasks.py?line=255'>256</a>\u001b[0m         result \u001b[39m=\u001b[39m coro\u001b[39m.\u001b[39;49msend(\u001b[39mNone\u001b[39;49;00m)\n\u001b[1;32m    <a href='file:///Users/marvinottersberg/opt/anaconda3/envs/dontbesentimental/lib/python3.9/asyncio/tasks.py?line=256'>257</a>\u001b[0m     \u001b[39melse\u001b[39;00m:\n\u001b[1;32m    <a href='file:///Users/marvinottersberg/opt/anaconda3/envs/dontbesentimental/lib/python3.9/asyncio/tasks.py?line=257'>258</a>\u001b[0m         result \u001b[39m=\u001b[39m coro\u001b[39m.\u001b[39mthrow(exc)\n",
      "File \u001b[0;32m~/opt/anaconda3/envs/dontbesentimental/lib/python3.9/site-packages/twint/run.py:199\u001b[0m, in \u001b[0;36mTwint.run\u001b[0;34m(self)\u001b[0m\n\u001b[1;32m    <a href='file:///Users/marvinottersberg/opt/anaconda3/envs/dontbesentimental/lib/python3.9/site-packages/twint/run.py?line=196'>197</a>\u001b[0m     \u001b[39melif\u001b[39;00m \u001b[39mself\u001b[39m\u001b[39m.\u001b[39mconfig\u001b[39m.\u001b[39mTwitterSearch:\n\u001b[1;32m    <a href='file:///Users/marvinottersberg/opt/anaconda3/envs/dontbesentimental/lib/python3.9/site-packages/twint/run.py?line=197'>198</a>\u001b[0m         logme\u001b[39m.\u001b[39mdebug(\u001b[39m__name__\u001b[39m\u001b[39m+\u001b[39m\u001b[39m'\u001b[39m\u001b[39m:Twint:main:twitter-search\u001b[39m\u001b[39m'\u001b[39m)\n\u001b[0;32m--> <a href='file:///Users/marvinottersberg/opt/anaconda3/envs/dontbesentimental/lib/python3.9/site-packages/twint/run.py?line=198'>199</a>\u001b[0m         \u001b[39mawait\u001b[39;00m \u001b[39mself\u001b[39m\u001b[39m.\u001b[39mtweets()\n\u001b[1;32m    <a href='file:///Users/marvinottersberg/opt/anaconda3/envs/dontbesentimental/lib/python3.9/site-packages/twint/run.py?line=199'>200</a>\u001b[0m \u001b[39melse\u001b[39;00m:\n\u001b[1;32m    <a href='file:///Users/marvinottersberg/opt/anaconda3/envs/dontbesentimental/lib/python3.9/site-packages/twint/run.py?line=200'>201</a>\u001b[0m     logme\u001b[39m.\u001b[39mdebug(\u001b[39m__name__\u001b[39m\u001b[39m+\u001b[39m\u001b[39m'\u001b[39m\u001b[39m:Twint:main:no-more-tweets\u001b[39m\u001b[39m'\u001b[39m)\n",
      "File \u001b[0;32m~/opt/anaconda3/envs/dontbesentimental/lib/python3.9/site-packages/twint/run.py:137\u001b[0m, in \u001b[0;36mTwint.tweets\u001b[0;34m(self)\u001b[0m\n\u001b[1;32m    <a href='file:///Users/marvinottersberg/opt/anaconda3/envs/dontbesentimental/lib/python3.9/site-packages/twint/run.py?line=135'>136</a>\u001b[0m \u001b[39masync\u001b[39;00m \u001b[39mdef\u001b[39;00m \u001b[39mtweets\u001b[39m(\u001b[39mself\u001b[39m):\n\u001b[0;32m--> <a href='file:///Users/marvinottersberg/opt/anaconda3/envs/dontbesentimental/lib/python3.9/site-packages/twint/run.py?line=136'>137</a>\u001b[0m     \u001b[39mawait\u001b[39;00m \u001b[39mself\u001b[39m\u001b[39m.\u001b[39mFeed()\n\u001b[1;32m    <a href='file:///Users/marvinottersberg/opt/anaconda3/envs/dontbesentimental/lib/python3.9/site-packages/twint/run.py?line=137'>138</a>\u001b[0m     \u001b[39mif\u001b[39;00m \u001b[39mself\u001b[39m\u001b[39m.\u001b[39mconfig\u001b[39m.\u001b[39mLocation:\n\u001b[1;32m    <a href='file:///Users/marvinottersberg/opt/anaconda3/envs/dontbesentimental/lib/python3.9/site-packages/twint/run.py?line=138'>139</a>\u001b[0m         logme\u001b[39m.\u001b[39mdebug(\u001b[39m__name__\u001b[39m\u001b[39m+\u001b[39m\u001b[39m'\u001b[39m\u001b[39m:Twint:tweets:location\u001b[39m\u001b[39m'\u001b[39m)\n",
      "File \u001b[0;32m~/opt/anaconda3/envs/dontbesentimental/lib/python3.9/site-packages/twint/run.py:98\u001b[0m, in \u001b[0;36mTwint.Feed\u001b[0;34m(self)\u001b[0m\n\u001b[1;32m     <a href='file:///Users/marvinottersberg/opt/anaconda3/envs/dontbesentimental/lib/python3.9/site-packages/twint/run.py?line=94'>95</a>\u001b[0m     delay \u001b[39m=\u001b[39m \u001b[39mself\u001b[39m\u001b[39m.\u001b[39mconfig\u001b[39m.\u001b[39mMin_wait_time\n\u001b[1;32m     <a href='file:///Users/marvinottersberg/opt/anaconda3/envs/dontbesentimental/lib/python3.9/site-packages/twint/run.py?line=96'>97</a>\u001b[0m sys\u001b[39m.\u001b[39mstderr\u001b[39m.\u001b[39mwrite(\u001b[39m'\u001b[39m\u001b[39msleeping for \u001b[39m\u001b[39m{}\u001b[39;00m\u001b[39m secs\u001b[39m\u001b[39m\\n\u001b[39;00m\u001b[39m'\u001b[39m\u001b[39m.\u001b[39mformat(delay))\n\u001b[0;32m---> <a href='file:///Users/marvinottersberg/opt/anaconda3/envs/dontbesentimental/lib/python3.9/site-packages/twint/run.py?line=97'>98</a>\u001b[0m time\u001b[39m.\u001b[39;49msleep(delay)\n\u001b[1;32m     <a href='file:///Users/marvinottersberg/opt/anaconda3/envs/dontbesentimental/lib/python3.9/site-packages/twint/run.py?line=98'>99</a>\u001b[0m \u001b[39mself\u001b[39m\u001b[39m.\u001b[39muser_agent \u001b[39m=\u001b[39m \u001b[39mawait\u001b[39;00m get\u001b[39m.\u001b[39mRandomUserAgent(wa\u001b[39m=\u001b[39m\u001b[39mTrue\u001b[39;00m)\n\u001b[1;32m    <a href='file:///Users/marvinottersberg/opt/anaconda3/envs/dontbesentimental/lib/python3.9/site-packages/twint/run.py?line=99'>100</a>\u001b[0m \u001b[39mcontinue\u001b[39;00m\n",
      "\u001b[0;31mKeyboardInterrupt\u001b[0m: "
     ]
    }
   ],
   "source": [
    "\n",
    "'''\n",
    "import twint\n",
    "\n",
    "import nest_asyncio\n",
    "nest_asyncio.apply()\n",
    "\n",
    "c = twint.Config()\n",
    "c.Search = \"#tsla\" #search keyword\n",
    "c.Limit = 5\n",
    "twint.run.Search(c)\n",
    "\n",
    "\n",
    "Result: No Data coming from Twint:\n",
    "\n",
    "CRITICAL:root:twint.run:Twint:Feed:noDataExpecting value: line 1 column 1 (char 0)\n",
    "sleeping for 1.0 secs\n",
    "CRITICAL:root:twint.run:Twint:Feed:noDataExpecting value: line 1 column 1 (char 0)\n",
    "sleeping for 8.0 secs\n",
    "'''"
   ]
  }
 ],
 "metadata": {
  "interpreter": {
   "hash": "f006eaa69a9e1242291392219277a0a973a697a6ded3a6ef5df3e91aa85b190b"
  },
  "kernelspec": {
   "display_name": "Python 3.9.7 ('dontbesentimental')",
   "language": "python",
   "name": "python3"
  },
  "language_info": {
   "codemirror_mode": {
    "name": "ipython",
    "version": 3
   },
   "file_extension": ".py",
   "mimetype": "text/x-python",
   "name": "python",
   "nbconvert_exporter": "python",
   "pygments_lexer": "ipython3",
   "version": "3.9.7"
  },
  "orig_nbformat": 4
 },
 "nbformat": 4,
 "nbformat_minor": 2
}
